{
 "cells": [
  {
   "cell_type": "code",
   "execution_count": null,
   "metadata": {},
   "outputs": [],
   "source": [
    "curr_dir = '/user_data/vayzenbe/GitHub_Repos/LiMA'\n",
    "\n",
    "import sys\n",
    "sys.path.insert(1, f'{curr_dir}')\n",
    "import os, argparse\n",
    "from collections import OrderedDict\n",
    "import torch\n",
    "import torch.nn as nn\n",
    "import torchvision\n",
    "from torchvision import transforms\n",
    "from torchvision import datasets\n",
    "import torchvision.models as models\n",
    "import numpy as np\n",
    "from LoadFrames import LoadFrames\n",
    "from statistics import mean\n",
    "from PIL import Image\n",
    "import matplotlib.pyplot as plt\n",
    "import gc\n",
    "import pandas as pd\n",
    "import pdb\n",
    "from itertools import chain\n",
    "import deepdish as dd"
   ]
  },
  {
   "cell_type": "code",
   "execution_count": null,
   "metadata": {},
   "outputs": [],
   "source": [
    "def define_decoder(act_num):\n",
    "    decoder = nn.Sequential(nn.Conv2d(3,act_num,kernel_size=3, stride=2), nn.ReLU(), nn.MaxPool2d(kernel_size=3, stride=2, padding=1), nn.AdaptiveAvgPool2d(1),nn.ReLU(), nn.ConvTranspose2d(act_num, 3, 224))\n",
    "    decoder = decoder.cuda()\n",
    "    \n",
    "    return decoder"
   ]
  },
  {
   "cell_type": "code",
   "execution_count": null,
   "metadata": {},
   "outputs": [],
   "source": [
    "\n",
    "def load_model(modelType_):\n",
    "    global stim_dir\n",
    "    #select model to run\n",
    "    if modelType_ == 'pixel':\n",
    "        #model = nn.Sequential(nn.Conv2d(3,1024,kernel_size=3, stride=2), nn.ReLU(), nn.MaxPool2d(kernel_size=3, stride=2, padding=1), nn.AdaptiveAvgPool2d(1))\n",
    "        act_num = 1024\n",
    "        stim_dir = f'{curr_dir}/Frames'\n",
    "        \n",
    "\n",
    "    elif modelType_ == 'skel':\n",
    "        #model = nn.Sequential(nn.Conv2d(3,4096,kernel_size=3, stride=2), nn.ReLU(), nn.MaxPool2d(kernel_size=3, stride=2, padding=1), nn.AdaptiveAvgPool2d(1))\n",
    "        act_num = 1024\n",
    "        stim_dir = f'{curr_dir}/modelling/flow_data'"
   ]
  }
 ],
 "metadata": {
  "language_info": {
   "name": "python"
  },
  "orig_nbformat": 4
 },
 "nbformat": 4,
 "nbformat_minor": 2
}
