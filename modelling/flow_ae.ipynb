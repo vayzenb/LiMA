{
 "cells": [
  {
   "cell_type": "code",
   "execution_count": 1,
   "metadata": {},
   "outputs": [],
   "source": [
    "curr_dir =  '/user_data/vayzenbe/GitHub_Repos/LiMA'\n",
    "import sys\n",
    "sys.path.insert(0, '/user_data/vayzenbe/GitHub_Repos/flownet2-pytorch')\n",
    "sys.path.insert(0, curr_dir)\n",
    "\n",
    "import os, argparse\n",
    "from collections import OrderedDict\n",
    "\n",
    "import torch.nn as nn\n",
    "import torchvision\n",
    "\n",
    "\n",
    "from torchvision import datasets\n",
    "\n",
    "import numpy as np\n",
    "import torch\n",
    "from LoadImagePairs import LoadImagePairs\n",
    "from torchvision import transforms"
   ]
  },
  {
   "cell_type": "code",
   "execution_count": 2,
   "metadata": {},
   "outputs": [
    {
     "name": "stdout",
     "output_type": "stream",
     "text": [
      "i run the flownet model in models\n"
     ]
    },
    {
     "name": "stderr",
     "output_type": "stream",
     "text": [
      "/home/vayzenbe/anaconda3/envs/flownet/lib/python3.9/site-packages/torch/nn/functional.py:3609: UserWarning: Default upsampling behavior when mode=bilinear is changed to align_corners=False since 0.4.0. Please specify align_corners=True if the old behavior is desired. See the documentation of nn.Upsample for details.\n",
      "  warnings.warn(\n"
     ]
    }
   ],
   "source": [
    "\n",
    "out_dir = '/user_data/vayzenbe/flow_test'\n",
    "model = torch.load(f'{curr_dir}/Weights/flownet2S.pt')\n",
    "\n",
    "checkpoint = torch.load(f'{curr_dir}/Weights/FlowNet2-S_checkpoint.pth.tar')\n",
    "model.load_state_dict(checkpoint['state_dict'])\n",
    "model.eval()\n",
    "\n",
    "hab_dataset = LoadImagePairs(f'{curr_dir}/Frames/Figure_23_Bulge')\n",
    "trainloader = torch.utils.data.DataLoader(hab_dataset, batch_size=10, shuffle=False, num_workers = 2, pin_memory=True)\n",
    "n = 1\n",
    "for data in trainloader:\n",
    "    #print(data)\n",
    "    flo,deconv,conv  = model(data[0][0])\n",
    "    break\n"
   ]
  },
  {
   "cell_type": "code",
   "execution_count": 5,
   "metadata": {},
   "outputs": [
    {
     "data": {
      "text/plain": [
       "torch.Size([10, 128, 80, 80])"
      ]
     },
     "execution_count": 5,
     "metadata": {},
     "output_type": "execute_result"
    }
   ],
   "source": [
    "conv.shape"
   ]
  },
  {
   "cell_type": "code",
   "execution_count": 4,
   "metadata": {},
   "outputs": [
    {
     "data": {
      "text/plain": [
       "torch.Size([10, 2, 320, 320])"
      ]
     },
     "execution_count": 4,
     "metadata": {},
     "output_type": "execute_result"
    }
   ],
   "source": [
    "flo.shape"
   ]
  },
  {
   "cell_type": "code",
   "execution_count": 37,
   "metadata": {},
   "outputs": [],
   "source": [
    "out2 = decode_from_deconv(out)"
   ]
  },
  {
   "cell_type": "code",
   "execution_count": 5,
   "metadata": {},
   "outputs": [],
   "source": [
    "\n",
    "decode_from_conv = nn.Sequential(nn.MaxPool2d(kernel_size=3, stride=2, padding=1), nn.AdaptiveAvgPool2d(1),nn.ReLU(), nn.ConvTranspose2d(1024, 2, 224))\n",
    "decode_from_deconv = nn.Sequential(nn.Conv2d(2,1024,kernel_size=3, stride=2), nn.ReLU(),nn.MaxPool2d(kernel_size=3, stride=2, padding=1), nn.AdaptiveAvgPool2d(1),nn.ReLU(), nn.ConvTranspose2d(1024, 2, 224))\n"
   ]
  },
  {
   "cell_type": "code",
   "execution_count": 6,
   "metadata": {},
   "outputs": [],
   "source": [
    "out2 = decode_from_conv(conv)"
   ]
  },
  {
   "cell_type": "code",
   "execution_count": 2,
   "metadata": {},
   "outputs": [
    {
     "name": "stderr",
     "output_type": "stream",
     "text": [
      "/home/vayzenbe/anaconda3/envs/flownet/lib/python3.9/site-packages/torch/nn/functional.py:3609: UserWarning: Default upsampling behavior when mode=bilinear is changed to align_corners=False since 0.4.0. Please specify align_corners=True if the old behavior is desired. See the documentation of nn.Upsample for details.\n",
      "  warnings.warn(\n"
     ]
    }
   ],
   "source": [
    "'''code in here to generate samples'''\n",
    "\n",
    "curr_dir =  '/user_data/vayzenbe/GitHub_Repos/LiMA'\n",
    "import sys\n",
    "sys.path.insert(0, '/user_data/vayzenbe/GitHub_Repos/flownet2-pytorch')\n",
    "sys.path.insert(0, curr_dir)\n",
    "from LoadImagePairs import LoadImagePairs\n",
    "import torch\n",
    "from torchvision import transforms\n",
    "from utils import flow_utils\n",
    "out_dir = '/user_data/vayzenbe/flow_test'\n",
    "model = torch.load(f'{curr_dir}/Weights/flownet2S.pt')\n",
    "\n",
    "checkpoint = torch.load(f'{curr_dir}/Weights/FlowNet2-S_checkpoint.pth.tar')\n",
    "model.load_state_dict(checkpoint['state_dict'])\n",
    "model.eval()\n",
    "\n",
    "hab_dataset = LoadImagePairs(f'{curr_dir}/Frames/Figure_23_Bulge')\n",
    "trainloader = torch.utils.data.DataLoader(hab_dataset, batch_size=10, shuffle=False, num_workers = 2, pin_memory=True)\n",
    "n = 1\n",
    "for data in trainloader:\n",
    "    #print(data)\n",
    "    flo,deconv,conv = model(data[0][0])\n",
    "    _pflow = flo[0,...].data.cpu().numpy().transpose(1, 2, 0)\n",
    "    flow_utils.visulize_flow_file(_pflow,f'{out_dir}/im_{n}.jpg',True)\n",
    "    n +=1\n",
    "    "
   ]
  },
  {
   "cell_type": "code",
   "execution_count": 5,
   "metadata": {},
   "outputs": [
    {
     "data": {
      "text/plain": [
       "torch.Size([1, 128, 80, 80])"
      ]
     },
     "execution_count": 5,
     "metadata": {},
     "output_type": "execute_result"
    }
   ],
   "source": [
    "conv.shape"
   ]
  },
  {
   "cell_type": "code",
   "execution_count": 44,
   "metadata": {},
   "outputs": [
    {
     "name": "stdout",
     "output_type": "stream",
     "text": [
      "----------------------------------------------------------------\n",
      "        Layer (type)               Output Shape         Param #\n",
      "================================================================\n",
      "            Conv2d-1         [-1, 64, 160, 160]          18,880\n",
      "         LeakyReLU-2         [-1, 64, 160, 160]               0\n",
      "            Conv2d-3          [-1, 128, 80, 80]         204,928\n",
      "         LeakyReLU-4          [-1, 128, 80, 80]               0\n",
      "            Conv2d-5          [-1, 256, 40, 40]         819,456\n",
      "         LeakyReLU-6          [-1, 256, 40, 40]               0\n",
      "            Conv2d-7          [-1, 256, 40, 40]         590,080\n",
      "         LeakyReLU-8          [-1, 256, 40, 40]               0\n",
      "            Conv2d-9          [-1, 512, 20, 20]       1,180,160\n",
      "        LeakyReLU-10          [-1, 512, 20, 20]               0\n",
      "           Conv2d-11          [-1, 512, 20, 20]       2,359,808\n",
      "        LeakyReLU-12          [-1, 512, 20, 20]               0\n",
      "           Conv2d-13          [-1, 512, 10, 10]       2,359,808\n",
      "        LeakyReLU-14          [-1, 512, 10, 10]               0\n",
      "           Conv2d-15          [-1, 512, 10, 10]       2,359,808\n",
      "        LeakyReLU-16          [-1, 512, 10, 10]               0\n",
      "           Conv2d-17           [-1, 1024, 5, 5]       4,719,616\n",
      "        LeakyReLU-18           [-1, 1024, 5, 5]               0\n",
      "           Conv2d-19           [-1, 1024, 5, 5]       9,438,208\n",
      "        LeakyReLU-20           [-1, 1024, 5, 5]               0\n",
      "           Conv2d-21              [-1, 2, 5, 5]          18,434\n",
      "  ConvTranspose2d-22            [-1, 2, 10, 10]              64\n",
      "  ConvTranspose2d-23          [-1, 512, 10, 10]       8,389,120\n",
      "        LeakyReLU-24          [-1, 512, 10, 10]               0\n",
      "           Conv2d-25            [-1, 2, 10, 10]          18,470\n",
      "  ConvTranspose2d-26            [-1, 2, 20, 20]              64\n",
      "  ConvTranspose2d-27          [-1, 256, 20, 20]       4,202,752\n",
      "        LeakyReLU-28          [-1, 256, 20, 20]               0\n",
      "           Conv2d-29            [-1, 2, 20, 20]          13,862\n",
      "  ConvTranspose2d-30            [-1, 2, 40, 40]              64\n",
      "  ConvTranspose2d-31          [-1, 128, 40, 40]       1,577,088\n",
      "        LeakyReLU-32          [-1, 128, 40, 40]               0\n",
      "           Conv2d-33            [-1, 2, 40, 40]           6,950\n",
      "  ConvTranspose2d-34            [-1, 2, 80, 80]              64\n",
      "  ConvTranspose2d-35           [-1, 64, 80, 80]         395,328\n",
      "        LeakyReLU-36           [-1, 64, 80, 80]               0\n",
      "           Conv2d-37            [-1, 2, 80, 80]           3,494\n",
      "         Upsample-38          [-1, 2, 320, 320]               0\n",
      "================================================================\n",
      "Total params: 38,676,506\n",
      "Trainable params: 38,676,506\n",
      "Non-trainable params: 0\n",
      "----------------------------------------------------------------\n",
      "Input size (MB): 2.34\n",
      "Forward/backward pass size (MB): 72.13\n",
      "Params size (MB): 147.54\n",
      "Estimated Total Size (MB): 222.02\n",
      "----------------------------------------------------------------\n"
     ]
    },
    {
     "name": "stderr",
     "output_type": "stream",
     "text": [
      "/home/vayzenbe/anaconda3/envs/flownet/lib/python3.9/site-packages/torch/nn/functional.py:3609: UserWarning: Default upsampling behavior when mode=bilinear is changed to align_corners=False since 0.4.0. Please specify align_corners=True if the old behavior is desired. See the documentation of nn.Upsample for details.\n",
      "  warnings.warn(\n"
     ]
    }
   ],
   "source": [
    "\n",
    "model = model.cuda()\n",
    "summary(model, (3, 2, 320, 320))"
   ]
  },
  {
   "cell_type": "code",
   "execution_count": 9,
   "metadata": {},
   "outputs": [],
   "source": []
  },
  {
   "cell_type": "code",
   "execution_count": 11,
   "metadata": {},
   "outputs": [
    {
     "ename": "ValueError",
     "evalue": "x and y can be no greater than 2-D, but have shapes (320,) and (320, 320, 2)",
     "output_type": "error",
     "traceback": [
      "\u001b[0;31m---------------------------------------------------------------------------\u001b[0m",
      "\u001b[0;31mValueError\u001b[0m                                Traceback (most recent call last)",
      "\u001b[0;32m/tmp/ipykernel_8994/248095940.py\u001b[0m in \u001b[0;36m<module>\u001b[0;34m\u001b[0m\n\u001b[1;32m      1\u001b[0m \u001b[0;32mimport\u001b[0m \u001b[0mmatplotlib\u001b[0m\u001b[0;34m.\u001b[0m\u001b[0mpyplot\u001b[0m \u001b[0;32mas\u001b[0m \u001b[0mplt\u001b[0m\u001b[0;34m\u001b[0m\u001b[0;34m\u001b[0m\u001b[0m\n\u001b[0;32m----> 2\u001b[0;31m \u001b[0mplt\u001b[0m\u001b[0;34m.\u001b[0m\u001b[0mplot\u001b[0m\u001b[0;34m(\u001b[0m\u001b[0m_pflow\u001b[0m\u001b[0;34m)\u001b[0m\u001b[0;34m\u001b[0m\u001b[0;34m\u001b[0m\u001b[0m\n\u001b[0m",
      "\u001b[0;32m~/anaconda3/envs/flownet/lib/python3.9/site-packages/matplotlib/pyplot.py\u001b[0m in \u001b[0;36mplot\u001b[0;34m(scalex, scaley, data, *args, **kwargs)\u001b[0m\n\u001b[1;32m   2838\u001b[0m \u001b[0;34m@\u001b[0m\u001b[0m_copy_docstring_and_deprecators\u001b[0m\u001b[0;34m(\u001b[0m\u001b[0mAxes\u001b[0m\u001b[0;34m.\u001b[0m\u001b[0mplot\u001b[0m\u001b[0;34m)\u001b[0m\u001b[0;34m\u001b[0m\u001b[0;34m\u001b[0m\u001b[0m\n\u001b[1;32m   2839\u001b[0m \u001b[0;32mdef\u001b[0m \u001b[0mplot\u001b[0m\u001b[0;34m(\u001b[0m\u001b[0;34m*\u001b[0m\u001b[0margs\u001b[0m\u001b[0;34m,\u001b[0m \u001b[0mscalex\u001b[0m\u001b[0;34m=\u001b[0m\u001b[0;32mTrue\u001b[0m\u001b[0;34m,\u001b[0m \u001b[0mscaley\u001b[0m\u001b[0;34m=\u001b[0m\u001b[0;32mTrue\u001b[0m\u001b[0;34m,\u001b[0m \u001b[0mdata\u001b[0m\u001b[0;34m=\u001b[0m\u001b[0;32mNone\u001b[0m\u001b[0;34m,\u001b[0m \u001b[0;34m**\u001b[0m\u001b[0mkwargs\u001b[0m\u001b[0;34m)\u001b[0m\u001b[0;34m:\u001b[0m\u001b[0;34m\u001b[0m\u001b[0;34m\u001b[0m\u001b[0m\n\u001b[0;32m-> 2840\u001b[0;31m     return gca().plot(\n\u001b[0m\u001b[1;32m   2841\u001b[0m         \u001b[0;34m*\u001b[0m\u001b[0margs\u001b[0m\u001b[0;34m,\u001b[0m \u001b[0mscalex\u001b[0m\u001b[0;34m=\u001b[0m\u001b[0mscalex\u001b[0m\u001b[0;34m,\u001b[0m \u001b[0mscaley\u001b[0m\u001b[0;34m=\u001b[0m\u001b[0mscaley\u001b[0m\u001b[0;34m,\u001b[0m\u001b[0;34m\u001b[0m\u001b[0;34m\u001b[0m\u001b[0m\n\u001b[1;32m   2842\u001b[0m         **({\"data\": data} if data is not None else {}), **kwargs)\n",
      "\u001b[0;32m~/anaconda3/envs/flownet/lib/python3.9/site-packages/matplotlib/axes/_axes.py\u001b[0m in \u001b[0;36mplot\u001b[0;34m(self, scalex, scaley, data, *args, **kwargs)\u001b[0m\n\u001b[1;32m   1741\u001b[0m         \"\"\"\n\u001b[1;32m   1742\u001b[0m         \u001b[0mkwargs\u001b[0m \u001b[0;34m=\u001b[0m \u001b[0mcbook\u001b[0m\u001b[0;34m.\u001b[0m\u001b[0mnormalize_kwargs\u001b[0m\u001b[0;34m(\u001b[0m\u001b[0mkwargs\u001b[0m\u001b[0;34m,\u001b[0m \u001b[0mmlines\u001b[0m\u001b[0;34m.\u001b[0m\u001b[0mLine2D\u001b[0m\u001b[0;34m)\u001b[0m\u001b[0;34m\u001b[0m\u001b[0;34m\u001b[0m\u001b[0m\n\u001b[0;32m-> 1743\u001b[0;31m         \u001b[0mlines\u001b[0m \u001b[0;34m=\u001b[0m \u001b[0;34m[\u001b[0m\u001b[0;34m*\u001b[0m\u001b[0mself\u001b[0m\u001b[0;34m.\u001b[0m\u001b[0m_get_lines\u001b[0m\u001b[0;34m(\u001b[0m\u001b[0;34m*\u001b[0m\u001b[0margs\u001b[0m\u001b[0;34m,\u001b[0m \u001b[0mdata\u001b[0m\u001b[0;34m=\u001b[0m\u001b[0mdata\u001b[0m\u001b[0;34m,\u001b[0m \u001b[0;34m**\u001b[0m\u001b[0mkwargs\u001b[0m\u001b[0;34m)\u001b[0m\u001b[0;34m]\u001b[0m\u001b[0;34m\u001b[0m\u001b[0;34m\u001b[0m\u001b[0m\n\u001b[0m\u001b[1;32m   1744\u001b[0m         \u001b[0;32mfor\u001b[0m \u001b[0mline\u001b[0m \u001b[0;32min\u001b[0m \u001b[0mlines\u001b[0m\u001b[0;34m:\u001b[0m\u001b[0;34m\u001b[0m\u001b[0;34m\u001b[0m\u001b[0m\n\u001b[1;32m   1745\u001b[0m             \u001b[0mself\u001b[0m\u001b[0;34m.\u001b[0m\u001b[0madd_line\u001b[0m\u001b[0;34m(\u001b[0m\u001b[0mline\u001b[0m\u001b[0;34m)\u001b[0m\u001b[0;34m\u001b[0m\u001b[0;34m\u001b[0m\u001b[0m\n",
      "\u001b[0;32m~/anaconda3/envs/flownet/lib/python3.9/site-packages/matplotlib/axes/_base.py\u001b[0m in \u001b[0;36m__call__\u001b[0;34m(self, data, *args, **kwargs)\u001b[0m\n\u001b[1;32m    271\u001b[0m                 \u001b[0mthis\u001b[0m \u001b[0;34m+=\u001b[0m \u001b[0margs\u001b[0m\u001b[0;34m[\u001b[0m\u001b[0;36m0\u001b[0m\u001b[0;34m]\u001b[0m\u001b[0;34m,\u001b[0m\u001b[0;34m\u001b[0m\u001b[0;34m\u001b[0m\u001b[0m\n\u001b[1;32m    272\u001b[0m                 \u001b[0margs\u001b[0m \u001b[0;34m=\u001b[0m \u001b[0margs\u001b[0m\u001b[0;34m[\u001b[0m\u001b[0;36m1\u001b[0m\u001b[0;34m:\u001b[0m\u001b[0;34m]\u001b[0m\u001b[0;34m\u001b[0m\u001b[0;34m\u001b[0m\u001b[0m\n\u001b[0;32m--> 273\u001b[0;31m             \u001b[0;32myield\u001b[0m \u001b[0;32mfrom\u001b[0m \u001b[0mself\u001b[0m\u001b[0;34m.\u001b[0m\u001b[0m_plot_args\u001b[0m\u001b[0;34m(\u001b[0m\u001b[0mthis\u001b[0m\u001b[0;34m,\u001b[0m \u001b[0mkwargs\u001b[0m\u001b[0;34m)\u001b[0m\u001b[0;34m\u001b[0m\u001b[0;34m\u001b[0m\u001b[0m\n\u001b[0m\u001b[1;32m    274\u001b[0m \u001b[0;34m\u001b[0m\u001b[0m\n\u001b[1;32m    275\u001b[0m     \u001b[0;32mdef\u001b[0m \u001b[0mget_next_color\u001b[0m\u001b[0;34m(\u001b[0m\u001b[0mself\u001b[0m\u001b[0;34m)\u001b[0m\u001b[0;34m:\u001b[0m\u001b[0;34m\u001b[0m\u001b[0;34m\u001b[0m\u001b[0m\n",
      "\u001b[0;32m~/anaconda3/envs/flownet/lib/python3.9/site-packages/matplotlib/axes/_base.py\u001b[0m in \u001b[0;36m_plot_args\u001b[0;34m(self, tup, kwargs)\u001b[0m\n\u001b[1;32m    400\u001b[0m                              f\"have shapes {x.shape} and {y.shape}\")\n\u001b[1;32m    401\u001b[0m         \u001b[0;32mif\u001b[0m \u001b[0mx\u001b[0m\u001b[0;34m.\u001b[0m\u001b[0mndim\u001b[0m \u001b[0;34m>\u001b[0m \u001b[0;36m2\u001b[0m \u001b[0;32mor\u001b[0m \u001b[0my\u001b[0m\u001b[0;34m.\u001b[0m\u001b[0mndim\u001b[0m \u001b[0;34m>\u001b[0m \u001b[0;36m2\u001b[0m\u001b[0;34m:\u001b[0m\u001b[0;34m\u001b[0m\u001b[0;34m\u001b[0m\u001b[0m\n\u001b[0;32m--> 402\u001b[0;31m             raise ValueError(f\"x and y can be no greater than 2-D, but have \"\n\u001b[0m\u001b[1;32m    403\u001b[0m                              f\"shapes {x.shape} and {y.shape}\")\n\u001b[1;32m    404\u001b[0m         \u001b[0;32mif\u001b[0m \u001b[0mx\u001b[0m\u001b[0;34m.\u001b[0m\u001b[0mndim\u001b[0m \u001b[0;34m==\u001b[0m \u001b[0;36m1\u001b[0m\u001b[0;34m:\u001b[0m\u001b[0;34m\u001b[0m\u001b[0;34m\u001b[0m\u001b[0m\n",
      "\u001b[0;31mValueError\u001b[0m: x and y can be no greater than 2-D, but have shapes (320,) and (320, 320, 2)"
     ]
    },
    {
     "data": {
      "image/png": "[encoded data removed]",
      "text/plain": [
       "<Figure size 432x288 with 1 Axes>"
      ]
     },
     "metadata": {
      "needs_background": "light"
     },
     "output_type": "display_data"
    }
   ],
   "source": [
    "import matplotlib.pyplot as plt\n",
    "plt.plot(_pflow)"
   ]
  },
  {
   "cell_type": "code",
   "execution_count": 10,
   "metadata": {},
   "outputs": [
    {
     "name": "stdout",
     "output_type": "stream",
     "text": [
      "tensor([[[[[-0.0801, -0.0801, -0.0801,  ..., -0.0801, -0.0801, -0.0801],\n",
      "           [-0.0801, -0.0801, -0.0801,  ..., -0.0801, -0.0801, -0.0801],\n",
      "           [-0.0801, -0.0801, -0.0801,  ..., -0.0801, -0.0801, -0.0801],\n",
      "           ...,\n",
      "           [-0.0801, -0.0801, -0.0801,  ..., -0.0801, -0.0801, -0.0801],\n",
      "           [-0.0801, -0.0801, -0.0801,  ..., -0.0801, -0.0801, -0.0801],\n",
      "           [-0.0801, -0.0801, -0.0801,  ..., -0.0801, -0.0801, -0.0801]],\n",
      "\n",
      "          [[ 0.0476,  0.0476,  0.0476,  ...,  0.0476,  0.0476,  0.0476],\n",
      "           [ 0.0476,  0.0476,  0.0476,  ...,  0.0476,  0.0476,  0.0476],\n",
      "           [ 0.0476,  0.0476,  0.0476,  ...,  0.0476,  0.0476,  0.0476],\n",
      "           ...,\n",
      "           [ 0.0476,  0.0476,  0.0476,  ...,  0.0476,  0.0476,  0.0476],\n",
      "           [ 0.0476,  0.0476,  0.0476,  ...,  0.0476,  0.0476,  0.0476],\n",
      "           [ 0.0476,  0.0476,  0.0476,  ...,  0.0476,  0.0476,  0.0476]],\n",
      "\n",
      "          [[ 0.2696,  0.2696,  0.2696,  ...,  0.2696,  0.2696,  0.2696],\n",
      "           [ 0.2696,  0.2696,  0.2696,  ...,  0.2696,  0.2696,  0.2696],\n",
      "           [ 0.2696,  0.2696,  0.2696,  ...,  0.2696,  0.2696,  0.2696],\n",
      "           ...,\n",
      "           [ 0.2696,  0.2696,  0.2696,  ...,  0.2696,  0.2696,  0.2696],\n",
      "           [ 0.2696,  0.2696,  0.2696,  ...,  0.2696,  0.2696,  0.2696],\n",
      "           [ 0.2696,  0.2696,  0.2696,  ...,  0.2696,  0.2696,  0.2696]],\n",
      "\n",
      "          [[-0.0801, -0.0801, -0.0801,  ..., -0.0801, -0.0801, -0.0801],\n",
      "           [-0.0801, -0.0801, -0.0801,  ..., -0.0801, -0.0801, -0.0801],\n",
      "           [-0.0801, -0.0801, -0.0801,  ..., -0.0801, -0.0801, -0.0801],\n",
      "           ...,\n",
      "           [-0.0801, -0.0801, -0.0801,  ..., -0.0801, -0.0801, -0.0801],\n",
      "           [-0.0801, -0.0801, -0.0801,  ..., -0.0801, -0.0801, -0.0801],\n",
      "           [-0.0801, -0.0801, -0.0801,  ..., -0.0801, -0.0801, -0.0801]],\n",
      "\n",
      "          [[ 0.0476,  0.0476,  0.0476,  ...,  0.0476,  0.0476,  0.0476],\n",
      "           [ 0.0476,  0.0476,  0.0476,  ...,  0.0476,  0.0476,  0.0476],\n",
      "           [ 0.0476,  0.0476,  0.0476,  ...,  0.0476,  0.0476,  0.0476],\n",
      "           ...,\n",
      "           [ 0.0476,  0.0476,  0.0476,  ...,  0.0476,  0.0476,  0.0476],\n",
      "           [ 0.0476,  0.0476,  0.0476,  ...,  0.0476,  0.0476,  0.0476],\n",
      "           [ 0.0476,  0.0476,  0.0476,  ...,  0.0476,  0.0476,  0.0476]],\n",
      "\n",
      "          [[ 0.2696,  0.2696,  0.2696,  ...,  0.2696,  0.2696,  0.2696],\n",
      "           [ 0.2696,  0.2696,  0.2696,  ...,  0.2696,  0.2696,  0.2696],\n",
      "           [ 0.2696,  0.2696,  0.2696,  ...,  0.2696,  0.2696,  0.2696],\n",
      "           ...,\n",
      "           [ 0.2696,  0.2696,  0.2696,  ...,  0.2696,  0.2696,  0.2696],\n",
      "           [ 0.2696,  0.2696,  0.2696,  ...,  0.2696,  0.2696,  0.2696],\n",
      "           [ 0.2696,  0.2696,  0.2696,  ...,  0.2696,  0.2696,  0.2696]]]]])\n"
     ]
    }
   ],
   "source": [
    "\n",
    "transform = transforms.Compose([\n",
    "        transforms.Resize((224, 224)),\n",
    "        transforms.ToTensor(),\n",
    "        transforms.Normalize(mean=[0.485, 0.456, 0.406],\n",
    "                                             std=[0.229, 0.224, 0.225])])\n",
    "hab_dataset = LoadImagePairs(f'{curr_dir}/Frames/Figure_23_Bulge', transform=transform)\n",
    "trainloader = torch.utils.data.DataLoader(hab_dataset, batch_size=1, shuffle=True, num_workers = 2, pin_memory=True)\n",
    "for data in trainloader:\n",
    "    print(data)\n",
    "    #out = model(data)\n",
    "    break"
   ]
  },
  {
   "cell_type": "code",
   "execution_count": 11,
   "metadata": {},
   "outputs": [
    {
     "data": {
      "text/plain": [
       "torch.Size([1, 1, 6, 224, 224])"
      ]
     },
     "execution_count": 11,
     "metadata": {},
     "output_type": "execute_result"
    }
   ],
   "source": [
    "data.shape"
   ]
  },
  {
   "cell_type": "code",
   "execution_count": 5,
   "metadata": {},
   "outputs": [
    {
     "ename": "ValueError",
     "evalue": "axes don't match array",
     "output_type": "error",
     "traceback": [
      "\u001b[0;31m---------------------------------------------------------------------------\u001b[0m",
      "\u001b[0;31mValueError\u001b[0m                                Traceback (most recent call last)",
      "\u001b[0;32m/tmp/ipykernel_8994/3641431797.py\u001b[0m in \u001b[0;36m<module>\u001b[0;34m\u001b[0m\n\u001b[0;32m----> 1\u001b[0;31m \u001b[0m_pflow\u001b[0m \u001b[0;34m=\u001b[0m \u001b[0mout\u001b[0m\u001b[0;34m.\u001b[0m\u001b[0mdata\u001b[0m\u001b[0;34m.\u001b[0m\u001b[0mcpu\u001b[0m\u001b[0;34m(\u001b[0m\u001b[0;34m)\u001b[0m\u001b[0;34m.\u001b[0m\u001b[0mnumpy\u001b[0m\u001b[0;34m(\u001b[0m\u001b[0;34m)\u001b[0m\u001b[0;34m.\u001b[0m\u001b[0mtranspose\u001b[0m\u001b[0;34m(\u001b[0m\u001b[0;36m1\u001b[0m\u001b[0;34m,\u001b[0m \u001b[0;36m2\u001b[0m\u001b[0;34m,\u001b[0m \u001b[0;36m0\u001b[0m\u001b[0;34m)\u001b[0m\u001b[0;34m\u001b[0m\u001b[0;34m\u001b[0m\u001b[0m\n\u001b[0m",
      "\u001b[0;31mValueError\u001b[0m: axes don't match array"
     ]
    }
   ],
   "source": []
  },
  {
   "cell_type": "code",
   "execution_count": 12,
   "metadata": {},
   "outputs": [
    {
     "data": {
      "text/plain": [
       "FlowNet2S(\n",
       "  (conv1): Sequential(\n",
       "    (0): Conv2d(6, 64, kernel_size=(7, 7), stride=(2, 2), padding=(3, 3))\n",
       "    (1): LeakyReLU(negative_slope=0.1, inplace=True)\n",
       "  )\n",
       "  (conv2): Sequential(\n",
       "    (0): Conv2d(64, 128, kernel_size=(5, 5), stride=(2, 2), padding=(2, 2))\n",
       "    (1): LeakyReLU(negative_slope=0.1, inplace=True)\n",
       "  )\n",
       "  (conv3): Sequential(\n",
       "    (0): Conv2d(128, 256, kernel_size=(5, 5), stride=(2, 2), padding=(2, 2))\n",
       "    (1): LeakyReLU(negative_slope=0.1, inplace=True)\n",
       "  )\n",
       "  (conv3_1): Sequential(\n",
       "    (0): Conv2d(256, 256, kernel_size=(3, 3), stride=(1, 1), padding=(1, 1))\n",
       "    (1): LeakyReLU(negative_slope=0.1, inplace=True)\n",
       "  )\n",
       "  (conv4): Sequential(\n",
       "    (0): Conv2d(256, 512, kernel_size=(3, 3), stride=(2, 2), padding=(1, 1))\n",
       "    (1): LeakyReLU(negative_slope=0.1, inplace=True)\n",
       "  )\n",
       "  (conv4_1): Sequential(\n",
       "    (0): Conv2d(512, 512, kernel_size=(3, 3), stride=(1, 1), padding=(1, 1))\n",
       "    (1): LeakyReLU(negative_slope=0.1, inplace=True)\n",
       "  )\n",
       "  (conv5): Sequential(\n",
       "    (0): Conv2d(512, 512, kernel_size=(3, 3), stride=(2, 2), padding=(1, 1))\n",
       "    (1): LeakyReLU(negative_slope=0.1, inplace=True)\n",
       "  )\n",
       "  (conv5_1): Sequential(\n",
       "    (0): Conv2d(512, 512, kernel_size=(3, 3), stride=(1, 1), padding=(1, 1))\n",
       "    (1): LeakyReLU(negative_slope=0.1, inplace=True)\n",
       "  )\n",
       "  (conv6): Sequential(\n",
       "    (0): Conv2d(512, 1024, kernel_size=(3, 3), stride=(2, 2), padding=(1, 1))\n",
       "    (1): LeakyReLU(negative_slope=0.1, inplace=True)\n",
       "  )\n",
       "  (conv6_1): Sequential(\n",
       "    (0): Conv2d(1024, 1024, kernel_size=(3, 3), stride=(1, 1), padding=(1, 1))\n",
       "    (1): LeakyReLU(negative_slope=0.1, inplace=True)\n",
       "  )\n",
       "  (deconv5): Sequential(\n",
       "    (0): ConvTranspose2d(1024, 512, kernel_size=(4, 4), stride=(2, 2), padding=(1, 1))\n",
       "    (1): LeakyReLU(negative_slope=0.1, inplace=True)\n",
       "  )\n",
       "  (deconv4): Sequential(\n",
       "    (0): ConvTranspose2d(1026, 256, kernel_size=(4, 4), stride=(2, 2), padding=(1, 1))\n",
       "    (1): LeakyReLU(negative_slope=0.1, inplace=True)\n",
       "  )\n",
       "  (deconv3): Sequential(\n",
       "    (0): ConvTranspose2d(770, 128, kernel_size=(4, 4), stride=(2, 2), padding=(1, 1))\n",
       "    (1): LeakyReLU(negative_slope=0.1, inplace=True)\n",
       "  )\n",
       "  (deconv2): Sequential(\n",
       "    (0): ConvTranspose2d(386, 64, kernel_size=(4, 4), stride=(2, 2), padding=(1, 1))\n",
       "    (1): LeakyReLU(negative_slope=0.1, inplace=True)\n",
       "  )\n",
       "  (predict_flow6): Conv2d(1024, 2, kernel_size=(3, 3), stride=(1, 1), padding=(1, 1))\n",
       "  (predict_flow5): Conv2d(1026, 2, kernel_size=(3, 3), stride=(1, 1), padding=(1, 1))\n",
       "  (predict_flow4): Conv2d(770, 2, kernel_size=(3, 3), stride=(1, 1), padding=(1, 1))\n",
       "  (predict_flow3): Conv2d(386, 2, kernel_size=(3, 3), stride=(1, 1), padding=(1, 1))\n",
       "  (predict_flow2): Conv2d(194, 2, kernel_size=(3, 3), stride=(1, 1), padding=(1, 1))\n",
       "  (upsampled_flow6_to_5): ConvTranspose2d(2, 2, kernel_size=(4, 4), stride=(2, 2), padding=(1, 1), bias=False)\n",
       "  (upsampled_flow5_to_4): ConvTranspose2d(2, 2, kernel_size=(4, 4), stride=(2, 2), padding=(1, 1), bias=False)\n",
       "  (upsampled_flow4_to_3): ConvTranspose2d(2, 2, kernel_size=(4, 4), stride=(2, 2), padding=(1, 1), bias=False)\n",
       "  (upsampled_flow3_to_2): ConvTranspose2d(2, 2, kernel_size=(4, 4), stride=(2, 2), padding=(1, 1), bias=False)\n",
       "  (upsample1): Upsample(scale_factor=4.0, mode=bilinear)\n",
       ")"
      ]
     },
     "execution_count": 12,
     "metadata": {},
     "output_type": "execute_result"
    }
   ],
   "source": [
    "\n",
    "model = torch.load(f'{curr_dir}/Weights/flownet2S.pt')\n",
    "checkpoint = torch.load(f'{curr_dir}/Weights/FlowNet2-S_checkpoint.pth.tar')\n",
    "model.load_state_dict(checkpoint['state_dict'])\n",
    "model.eval()"
   ]
  },
  {
   "cell_type": "code",
   "execution_count": 3,
   "metadata": {},
   "outputs": [],
   "source": [
    "hab_dataset = LoadImagePairs(f'{curr_dir}/Frames/Figure_23_Bulge', transform=transform)\n",
    "trainloader = torch.utils.data.DataLoader(hab_dataset, batch_size=10, shuffle=True, num_workers = 2, pin_memory=True)\n"
   ]
  }
 ],
 "metadata": {
  "interpreter": {
   "hash": "a73dd579cb98b653d7ecde1e422adf56bab516ece8948c409c82164c3a4ed8cd"
  },
  "kernelspec": {
   "display_name": "Python 3.9.7 64-bit ('ml': conda)",
   "language": "python",
   "name": "python3"
  },
  "language_info": {
   "codemirror_mode": {
    "name": "ipython",
    "version": 3
   },
   "file_extension": ".py",
   "mimetype": "text/x-python",
   "name": "python",
   "nbconvert_exporter": "python",
   "pygments_lexer": "ipython3",
   "version": "3.9.7"
  },
  "orig_nbformat": 4
 },
 "nbformat": 4,
 "nbformat_minor": 2
}
