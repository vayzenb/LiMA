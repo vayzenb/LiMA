{
 "cells": [
  {
   "cell_type": "code",
   "execution_count": 1,
   "id": "4dd921f1",
   "metadata": {},
   "outputs": [],
   "source": [
    "import pandas as pd\n",
    "import numpy as np\n",
    "import pdb\n",
    "import itertools\n",
    "from scipy import stats\n",
    "import seaborn as sns\n",
    "import matplotlib.pyplot as plt\n",
    "import pdb\n",
    "from scipy import stats\n",
    "\n",
    "\n",
    "\n",
    "curr_dir = 'C:/Users/vayze/Desktop/GitHub_Repos/LiMA/'"
   ]
  },
  {
   "cell_type": "code",
   "execution_count": 61,
   "id": "f67932fe",
   "metadata": {},
   "outputs": [],
   "source": [
    "model_cols = ['Model', 'Skel1', 'SF1', 'hab_trials', 'hab_start', 'hab_end', 'skel2','sf2', 'skel_cat', \"sf_cat\", 'error']\n",
    "model_type= ['skel','pixel1','CorNet_S',\"SayCam\", \"ResNet_IN\", \"ResNet_SN\", \"flownet\"]\n",
    "actual_name = ['Skeleton', 'Pixel','CorNet-S', 'ResNext-SAY', 'ResNet-IN','ResNet-SIN', 'FlowNet']\n",
    "\n",
    "exp = ['Exp1', 'Exp2']\n",
    "\n",
    "skel = [['23', '31', '26'], ['31_0', '31_50']]\n",
    "SF = ['Skel', 'Bulge']"
   ]
  },
  {
   "cell_type": "code",
   "execution_count": 72,
   "id": "d9c22446",
   "metadata": {},
   "outputs": [
    {
     "name": "stdout",
     "output_type": "stream",
     "text": [
      "skel\n",
      "pixel1\n",
      "CorNet_S\n",
      "SayCam\n",
      "ResNet_IN\n",
      "ResNet_SN\n",
      "flownet\n",
      "skel\n",
      "pixel1\n",
      "CorNet_S\n",
      "SayCam\n",
      "ResNet_IN\n",
      "ResNet_SN\n",
      "flownet\n"
     ]
    }
   ],
   "source": [
    "'''\n",
    "Create RDMs for each model\n",
    "'''\n",
    "\n",
    "for exn,ee in enumerate(exp):\n",
    "    for mm in model_type:\n",
    "        print(mm)\n",
    "        mat = np.zeros((len(skel[exn]) * 2,len(skel[exn]) * 2))\n",
    "        mn = [0,0]\n",
    "        curr_model = pd.DataFrame(columns = model_cols)\n",
    "\n",
    "        for sk1 in skel[exn]:\n",
    "            for sf1 in SF:\n",
    "                #load csv\n",
    "                temp_df = pd.read_csv(f'{curr_dir}/Results/AE/{ee}_{mm}_Figure_{sk1}_{sf1}_Result.csv', \n",
    "                                      header = None, names = model_cols)\n",
    "\n",
    "                temp_df['skel2'] = temp_df['skel2'].astype(str)\n",
    "\n",
    "                temp_df['error_norm'] =temp_df['error'] - temp_df['hab_end']\n",
    "\n",
    "                for sk2 in skel[exn]:\n",
    "                    for sf2 in SF:\n",
    "                        err = temp_df['error_norm'][(temp_df['skel2'] == sk2) & (temp_df['sf2'] == sf2)]\n",
    "\n",
    "                        mat[mn[0], mn[1]] = err.to_numpy()[0]\n",
    "\n",
    "                        mn[1] +=1\n",
    "                mn[0] +=1\n",
    "                mn[1] =0\n",
    "        \n",
    "        #mat = stats.zscore(mat, axis=None)\n",
    "        sns.heatmap(mat,annot=True,cbar=False,xticklabels=False, yticklabels=False, square = True)\n",
    "        plt.savefig(f'{curr_dir}/Infant_Data/Figures/{ee}_{mm}_rdm.png',dpi = 100,bbox_inches = 'tight', pad_inches= 0 )\n",
    "\n",
    "        plt.close()\n",
    "\n",
    "        \n"
   ]
  },
  {
   "cell_type": "code",
   "execution_count": null,
   "id": "e9df3ab3",
   "metadata": {},
   "outputs": [],
   "source": [
    "'''\n",
    "Create bars\n",
    "'''\n",
    "\n",
    "for exn,ee in enumerate(exp):\n",
    "    for mm in model_type:\n",
    "        print(mm)\n",
    "        mat = np.zeros((len(skel[exn]) * 2,len(skel[exn]) * 2))\n",
    "        mn = [0,0]\n",
    "        curr_model = pd.DataFrame(columns = model_cols)\n",
    "\n",
    "        for sk1 in skel[exn]:\n",
    "            for sf1 in SF:\n",
    "                #load csv\n",
    "                temp_df = pd.read_csv(f'{curr_dir}/Results/AE/{ee}_{mm}_Figure_{sk1}_{sf1}_Result.csv', \n",
    "                                      header = None, names = model_cols)\n",
    "                \n",
    "                temp_df['skel2'] = temp_df['skel2'].astype(str)\n",
    "\n",
    "                temp_df['error_norm'] =temp_df['error'] - temp_df['hab_end']\n",
    "                curr_model = pd.append(temp_df)"
   ]
  },
  {
   "cell_type": "code",
   "execution_count": 70,
   "id": "76953f54",
   "metadata": {},
   "outputs": [
    {
     "data": {
      "text/plain": [
       "<AxesSubplot:>"
      ]
     },
     "execution_count": 70,
     "metadata": {},
     "output_type": "execute_result"
    },
    {
     "data": {
      "image/png": "[encoded data removed]",
      "text/plain": [
       "<Figure size 432x288 with 1 Axes>"
      ]
     },
     "metadata": {},
     "output_type": "display_data"
    }
   ],
   "source": [
    "sns.heatmap(mat,annot = True,cbar=False,xticklabels=False, yticklabels=False, square = True)"
   ]
  },
  {
   "cell_type": "code",
   "execution_count": 60,
   "id": "ceb99651",
   "metadata": {},
   "outputs": [
    {
     "data": {
      "text/plain": [
       "<AxesSubplot:>"
      ]
     },
     "execution_count": 60,
     "metadata": {},
     "output_type": "execute_result"
    },
    {
     "data": {
      "image/png": "[encoded data removed]",
      "text/plain": [
       "<Figure size 432x288 with 1 Axes>"
      ]
     },
     "metadata": {},
     "output_type": "display_data"
    }
   ],
   "source": []
  },
  {
   "cell_type": "code",
   "execution_count": 15,
   "id": "db5e02c0",
   "metadata": {},
   "outputs": [],
   "source": [
    "sk2 = 23\n",
    "sf2 = 'Skel'\n",
    "temp_df['error_norm'] =temp_df['error'] - temp_df['hab_end']\n"
   ]
  },
  {
   "cell_type": "code",
   "execution_count": 18,
   "id": "80e8fab4",
   "metadata": {},
   "outputs": [
    {
     "data": {
      "text/plain": [
       "0   -0.016559\n",
       "Name: error_norm, dtype: float64"
      ]
     },
     "execution_count": 18,
     "metadata": {},
     "output_type": "execute_result"
    }
   ],
   "source": [
    "err"
   ]
  },
  {
   "cell_type": "code",
   "execution_count": 14,
   "id": "b38b1792",
   "metadata": {},
   "outputs": [
    {
     "data": {
      "text/plain": [
       "'23'"
      ]
     },
     "execution_count": 14,
     "metadata": {},
     "output_type": "execute_result"
    }
   ],
   "source": [
    "sk2"
   ]
  },
  {
   "cell_type": "code",
   "execution_count": null,
   "id": "31313004",
   "metadata": {},
   "outputs": [],
   "source": []
  }
 ],
 "metadata": {
  "kernelspec": {
   "display_name": "Python 3",
   "language": "python",
   "name": "python3"
  },
  "language_info": {
   "codemirror_mode": {
    "name": "ipython",
    "version": 3
   },
   "file_extension": ".py",
   "mimetype": "text/x-python",
   "name": "python",
   "nbconvert_exporter": "python",
   "pygments_lexer": "ipython3",
   "version": "3.6.5"
  }
 },
 "nbformat": 4,
 "nbformat_minor": 5
}
