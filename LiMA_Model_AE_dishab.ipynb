{
 "cells": [
  {
   "cell_type": "markdown",
   "metadata": {},
   "source": [
    "Uses an autoencoder to approximate the habituation/dishabituation process\n",
    "An autoencoder is afixed ontop of the pre-trained model \n",
    "LiMA stim are run through it\n",
    "\n",
    "Author: VAYZENB"
   ]
  },
  {
   "cell_type": "code",
   "execution_count": 1,
   "metadata": {},
   "outputs": [],
   "source": [
    "import sys\n",
    "import os, argparse\n",
    "from collections import OrderedDict\n",
    "import torch\n",
    "import torch.nn as nn\n",
    "import torchvision\n",
    "from torchvision import transforms\n",
    "import cornet\n",
    "from torchvision import datasets\n",
    "import torchvision.models as models\n",
    "import numpy as np\n",
    "from LoadFrames import LoadFrames\n",
    "from statistics import mean\n",
    "from PIL import Image\n",
    "import matplotlib.pyplot as plt\n",
    "%matplotlib inline"
   ]
  },
  {
   "cell_type": "code",
   "execution_count": 2,
   "metadata": {},
   "outputs": [],
   "source": [
    "exp = ['Exp1', 'Exp2']\n",
    "\n",
    "skel = [['23','31', '26'],['31_0', '31_50']]\n",
    "SF = ['Skel', 'Bulge']\n",
    "#modelType = ['AlexNet_SN', 'ResNet_SN', 'AlexNet_IN', 'ResNet_IN', 'CorNet_Z', 'CorNet_S','SayCam']\n",
    "\n",
    "batch_num = 10\n",
    "#hab_min = 4 #minimum number of habituation trials to \n",
    "#batch_num = 10 #how many frames to use at a time\n",
    "#exp = ['Exp1']\n",
    "#skel=[['23']]\n",
    "#SF = ['Skel']\n",
    "#modelType = ['ResNet_SN',  'ResNet_IN', 'CorNet_Z', 'CorNet_S','SayCam']\n",
    "\n",
    "#Transformations for ImageNet\n",
    "transform = transforms.Compose([\n",
    "        transforms.Resize((224, 224)),\n",
    "        transforms.ToTensor(),\n",
    "        transforms.Normalize(mean=[0.485, 0.456, 0.406],\n",
    "                                             std=[0.229, 0.224, 0.225])])\n",
    "inv_normalize = transforms.Normalize(\n",
    "   mean=[-0.485/0.229, -0.456/0.224, -0.406/0.225],std=[1/0.229, 1/0.224, 1/0.225])\n",
    "# specify loss function\n",
    "criterion = nn.MSELoss()\n",
    "\n",
    "\n",
    "epochs = 1\n",
    "\n",
    "#Gets feats for CorNet models\n",
    "def _store_feats(layer, inp, output):\n",
    "    \"\"\"An ugly but effective way of accessing intermediate model features\n",
    "    \"\"\"   \n",
    "    output = output\n",
    "    _model_feats.append(output)\n"
   ]
  },
  {
   "cell_type": "code",
   "execution_count": 3,
   "metadata": {},
   "outputs": [],
   "source": [
    "def save_recon(out_,sk_,sf_, model, stim):\n",
    "    \n",
    "    fig,ax = plt.subplots(1)\n",
    "    ax.set_aspect('equal')\n",
    "\n",
    "    # Show the image\n",
    "    #ax.imshow(im)\n",
    "\n",
    "    out_ = out_.squeeze(0)\n",
    "    out_ = inv_normalize(out_)\n",
    "    out_ = out_.cpu().detach()\n",
    "    ax.imshow(out_.permute(1, 2, 0))\n",
    "    plt.axis('off')\n",
    "    #print(f'Results/AE/recon/{model}_{fig_fig_}.png')\n",
    "    plt.savefig(f'Results/AE/recon/{model}_{stim}.png', bbox_inches='tight', pad_inches = 0, dpi=150)\n",
    "    \n",
    "    "
   ]
  },
  {
   "cell_type": "code",
   "execution_count": 4,
   "metadata": {},
   "outputs": [],
   "source": [
    "def load_model(modelType_):\n",
    "    #select model to run\n",
    "    if modelType_ == 'AlexNet_IN':\n",
    "        model = torchvision.models.alexnet(pretrained=True)\n",
    "        new_classifier = nn.Sequential(*list(model.classifier.children())[:-2])\n",
    "        model.classifier = new_classifier #replace model classifier with stripped version\n",
    "        layer = \"fc7\"\n",
    "        actNum = 4096\n",
    "        \n",
    "    elif modelType_ == 'ResNet_IN':\n",
    "        model = torchvision.models.resnet50(pretrained=True)\n",
    "        model = nn.Sequential(*list(model.children())[:-1])\n",
    "        layer = \"avgpool\"\n",
    "        actNum = 2048\n",
    "                \n",
    "    elif modelType_ == 'AlexNet_SN':\n",
    "        model = torchvision.models.alexnet(pretrained=False)\n",
    "        checkpoint = torch.load('Weights/ShapeNet_AlexNet_Weights.pth.tar')\n",
    "        model.load_state_dict(checkpoint)\n",
    "        new_classifier = nn.Sequential(*list(model.classifier.children())[:-2])\n",
    "        model.classifier = new_classifier #replace model classifier with stripped version\n",
    "        layer = \"fc7\"\n",
    "        actNum = 4096\n",
    "        \n",
    "    elif modelType_ == 'ResNet_SN':\n",
    "        model = torchvision.models.resnet50(pretrained=False)\n",
    "        checkpoint = torch.load('Weights/ShapeNet_ResNet50_Weights.pth.tar')\n",
    "        model.load_state_dict(checkpoint)\n",
    "        model = nn.Sequential(*list(model.children())[:-1])\n",
    "        \n",
    "        layer = \"avgpool\"\n",
    "        actNum = 2048\n",
    "    \n",
    "    elif modelType_ == 'CorNet_Z':\n",
    "        model = getattr(cornet, 'cornet_z')\n",
    "        model = model(pretrained=False, map_location='gpu')\n",
    "        \n",
    "        layer = \"avgpool\"\n",
    "        actNum = 512\n",
    "    \n",
    "        try:\n",
    "            m = model.module\n",
    "        except:\n",
    "            m = model\n",
    "        model_layer = getattr(getattr(m, 'decoder'), layer)\n",
    "        model_layer.register_forward_hook(_store_feats)\n",
    "\n",
    "    elif modelType_ == 'CorNet_S':\n",
    "        model = getattr(cornet, 'cornet_s')\n",
    "        model = model(pretrained=False, map_location='gpu')\n",
    "        \n",
    "        layer = \"avgpool\"\n",
    "        actNum = 512        \n",
    "\n",
    "        try:\n",
    "            m = model.module\n",
    "        except:\n",
    "            m = model\n",
    "        \n",
    "        model_layer = getattr(getattr(m, 'decoder'), layer)\n",
    "        model_layer.register_forward_hook(_store_feats)\n",
    "\n",
    "    elif modelType_ == 'SayCam':\n",
    "        model = torchvision.models.resnext50_32x4d(pretrained=False)\n",
    "        #model = torch.nn.DataParallel(model)\n",
    "        #model.fc = torch.nn.Linear(in_features=2048, out_features=n_out, bias=True)\n",
    "        checkpoint = torch.load('Weights/SayCam_ResNext_Weights.pth.tar')\n",
    "        model.load_state_dict(checkpoint)\n",
    "        \n",
    "        actNum = 2048\n",
    "\n",
    "        model = nn.Sequential(*list(model.children())[:-1])\n",
    "        \n",
    "    return model, actNum"
   ]
  },
  {
   "cell_type": "code",
   "execution_count": null,
   "metadata": {},
   "outputs": [
    {
     "name": "stderr",
     "output_type": "stream",
     "text": [
      "Clipping input data to the valid range for imshow with RGB data ([0..1] for floats or [0..255] for integers).\n"
     ]
    },
    {
     "name": "stdout",
     "output_type": "stream",
     "text": [
      "['ResNet_SN' '23' 'Skel' 8 12.09859257343135 0.05745341662587898 '23'\n",
      " 'Skel' 'same' 'same' 0.06362634494660362 None]\n",
      "['ResNet_SN' '23' 'Skel' 8 12.09859257343135 0.05745341662587898 '23'\n",
      " 'Bulge' 'same' 'diff' 4.119518514602415 None]\n",
      "['ResNet_SN' '23' 'Skel' 8 12.09859257343135 0.05745341662587898 '31'\n",
      " 'Skel' 'diff' 'same' 1.7297760099172592 None]\n",
      "['ResNet_SN' '23' 'Skel' 8 12.09859257343135 0.05745341662587898 '31'\n",
      " 'Bulge' 'diff' 'diff' 3.618449480302872 None]\n",
      "['ResNet_SN' '23' 'Skel' 8 12.09859257343135 0.05745341662587898 '26'\n",
      " 'Skel' 'diff' 'same' 1.7956797817061025 None]\n",
      "['ResNet_SN' '23' 'Skel' 8 12.09859257343135 0.05745341662587898 '26'\n",
      " 'Bulge' 'diff' 'diff' 3.5637884274605782 None]\n",
      "['ResNet_SN' '23' 'Bulge' 8 18.597505156544123 0.07090140161134542 '23'\n",
      " 'Skel' 'same' 'diff' 1.7221841518917391 None]\n"
     ]
    },
    {
     "name": "stderr",
     "output_type": "stream",
     "text": [
      "Clipping input data to the valid range for imshow with RGB data ([0..1] for floats or [0..255] for integers).\n"
     ]
    },
    {
     "name": "stdout",
     "output_type": "stream",
     "text": [
      "['ResNet_SN' '23' 'Bulge' 8 18.597505156544123 0.07090140161134542 '23'\n",
      " 'Bulge' 'same' 'same' 0.09473613274073409 None]\n",
      "['ResNet_SN' '23' 'Bulge' 8 18.597505156544123 0.07090140161134542 '31'\n",
      " 'Skel' 'diff' 'diff' 3.5589656829833984 None]\n",
      "['ResNet_SN' '23' 'Bulge' 8 18.597505156544123 0.07090140161134542 '31'\n",
      " 'Bulge' 'diff' 'same' 2.754446974685115 None]\n",
      "['ResNet_SN' '23' 'Bulge' 8 18.597505156544123 0.07090140161134542 '26'\n",
      " 'Skel' 'diff' 'diff' 3.344346163734313 None]\n",
      "['ResNet_SN' '23' 'Bulge' 8 18.597505156544123 0.07090140161134542 '26'\n",
      " 'Bulge' 'diff' 'same' 3.1451638475541146 None]\n",
      "['ResNet_SN' '31' 'Skel' 8 13.085515440068013 0.036686311012148975 '23'\n",
      " 'Skel' 'diff' 'same' 1.670737507843202 None]\n",
      "['ResNet_SN' '31' 'Skel' 8 13.085515440068013 0.036686311012148975 '23'\n",
      " 'Bulge' 'diff' 'diff' 6.5680731669549015 None]\n"
     ]
    },
    {
     "name": "stderr",
     "output_type": "stream",
     "text": [
      "Clipping input data to the valid range for imshow with RGB data ([0..1] for floats or [0..255] for integers).\n"
     ]
    },
    {
     "name": "stdout",
     "output_type": "stream",
     "text": [
      "['ResNet_SN' '31' 'Skel' 8 13.085515440068013 0.036686311012148975 '31'\n",
      " 'Skel' 'same' 'same' 0.045813489630217516 None]\n",
      "['ResNet_SN' '31' 'Skel' 8 13.085515440068013 0.036686311012148975 '31'\n",
      " 'Bulge' 'same' 'diff' 5.155245813631242 None]\n",
      "['ResNet_SN' '31' 'Skel' 8 13.085515440068013 0.036686311012148975 '26'\n",
      " 'Skel' 'diff' 'same' 1.36315646166763 None]\n",
      "['ResNet_SN' '31' 'Skel' 8 13.085515440068013 0.036686311012148975 '26'\n",
      " 'Bulge' 'diff' 'diff' 6.501597427552746 None]\n",
      "['ResNet_SN' '31' 'Bulge' 8 20.531257601939295 0.03576734639336205 '23'\n",
      " 'Skel' 'diff' 'diff' 1.6245547907967721 None]\n",
      "['ResNet_SN' '31' 'Bulge' 8 20.531257601939295 0.03576734639336205 '23'\n",
      " 'Bulge' 'diff' 'same' 2.4312506423842524 None]\n",
      "['ResNet_SN' '31' 'Bulge' 8 20.531257601939295 0.03576734639336205 '31'\n",
      " 'Skel' 'same' 'diff' 1.6282747272522218 None]\n"
     ]
    },
    {
     "name": "stderr",
     "output_type": "stream",
     "text": [
      "Clipping input data to the valid range for imshow with RGB data ([0..1] for floats or [0..255] for integers).\n"
     ]
    },
    {
     "name": "stdout",
     "output_type": "stream",
     "text": [
      "['ResNet_SN' '31' 'Bulge' 8 20.531257601939295 0.03576734639336205 '31'\n",
      " 'Bulge' 'same' 'same' 0.032134602567361246 None]\n",
      "['ResNet_SN' '31' 'Bulge' 8 20.531257601939295 0.03576734639336205 '26'\n",
      " 'Skel' 'diff' 'diff' 2.041118558856749 None]\n",
      "['ResNet_SN' '31' 'Bulge' 8 20.531257601939295 0.03576734639336205 '26'\n",
      " 'Bulge' 'diff' 'same' 2.5619749715251308 None]\n",
      "['ResNet_SN' '26' 'Skel' 8 12.837231250569946 0.030508176960621868 '23'\n",
      " 'Skel' 'diff' 'same' 1.511789833345721 None]\n",
      "['ResNet_SN' '26' 'Skel' 8 12.837231250569946 0.030508176960621868 '23'\n",
      " 'Bulge' 'diff' 'diff' 5.097409379097723 None]\n",
      "['ResNet_SN' '26' 'Skel' 8 12.837231250569946 0.030508176960621868 '31'\n",
      " 'Skel' 'diff' 'same' 1.4174135803214964 None]\n",
      "['ResNet_SN' '26' 'Skel' 8 12.837231250569946 0.030508176960621868 '31'\n",
      " 'Bulge' 'diff' 'diff' 4.061298653964074 None]\n"
     ]
    },
    {
     "name": "stderr",
     "output_type": "stream",
     "text": [
      "Clipping input data to the valid range for imshow with RGB data ([0..1] for floats or [0..255] for integers).\n"
     ]
    },
    {
     "name": "stdout",
     "output_type": "stream",
     "text": [
      "['ResNet_SN' '26' 'Skel' 8 12.837231250569946 0.030508176960621868 '26'\n",
      " 'Skel' 'same' 'same' 0.044673960032542384 None]\n",
      "['ResNet_SN' '26' 'Skel' 8 12.837231250569946 0.030508176960621868 '26'\n",
      " 'Bulge' 'same' 'diff' 2.774899091451399 None]\n",
      "['ResNet_SN' '26' 'Bulge' 8 19.94686209764181 0.03385391949503232 '23'\n",
      " 'Skel' 'diff' 'diff' 2.0009439092489982 None]\n",
      "['ResNet_SN' '26' 'Bulge' 8 19.94686209764181 0.03385391949503232 '23'\n",
      " 'Bulge' 'diff' 'same' 2.907956198819222 None]\n",
      "['ResNet_SN' '26' 'Bulge' 8 19.94686209764181 0.03385391949503232 '31'\n",
      " 'Skel' 'diff' 'diff' 2.589615237328314 None]\n",
      "['ResNet_SN' '26' 'Bulge' 8 19.94686209764181 0.03385391949503232 '31'\n",
      " 'Bulge' 'diff' 'same' 2.7475211870285774 None]\n",
      "['ResNet_SN' '26' 'Bulge' 8 19.94686209764181 0.03385391949503232 '26'\n",
      " 'Skel' 'same' 'diff' 1.8256918927354198 None]\n"
     ]
    },
    {
     "name": "stderr",
     "output_type": "stream",
     "text": [
      "Clipping input data to the valid range for imshow with RGB data ([0..1] for floats or [0..255] for integers).\n"
     ]
    },
    {
     "name": "stdout",
     "output_type": "stream",
     "text": [
      "['ResNet_SN' '26' 'Bulge' 8 19.94686209764181 0.03385391949503232 '26'\n",
      " 'Bulge' 'same' 'same' 0.03310095415180249 None]\n"
     ]
    },
    {
     "name": "stderr",
     "output_type": "stream",
     "text": [
      "Clipping input data to the valid range for imshow with RGB data ([0..1] for floats or [0..255] for integers).\n"
     ]
    },
    {
     "name": "stdout",
     "output_type": "stream",
     "text": [
      "['ResNet_IN' '23' 'Skel' 8 12.148415680520326 0.061787452443592975 '23'\n",
      " 'Skel' 'same' 'same' 0.05566027279823057 None]\n",
      "['ResNet_IN' '23' 'Skel' 8 12.148415680520326 0.061787452443592975 '23'\n",
      " 'Bulge' 'same' 'diff' 2.717693925865235 None]\n",
      "['ResNet_IN' '23' 'Skel' 8 12.148415680520326 0.061787452443592975 '31'\n",
      " 'Skel' 'diff' 'same' 1.3015888693832582 None]\n",
      "['ResNet_IN' '23' 'Skel' 8 12.148415680520326 0.061787452443592975 '31'\n",
      " 'Bulge' 'diff' 'diff' 2.930014762186235 None]\n",
      "['ResNet_IN' '23' 'Skel' 8 12.148415680520326 0.061787452443592975 '26'\n",
      " 'Skel' 'diff' 'same' 1.613443547679532 None]\n",
      "['ResNet_IN' '23' 'Skel' 8 12.148415680520326 0.061787452443592975 '26'\n",
      " 'Bulge' 'diff' 'diff' 3.275244099478568 None]\n",
      "['ResNet_IN' '23' 'Bulge' 8 20.993196226739055 0.076902566879477 '23'\n",
      " 'Skel' 'same' 'diff' 2.544440882821237 None]\n"
     ]
    },
    {
     "name": "stderr",
     "output_type": "stream",
     "text": [
      "Clipping input data to the valid range for imshow with RGB data ([0..1] for floats or [0..255] for integers).\n"
     ]
    },
    {
     "name": "stdout",
     "output_type": "stream",
     "text": [
      "['ResNet_IN' '23' 'Bulge' 8 20.993196226739055 0.076902566879477 '23'\n",
      " 'Bulge' 'same' 'same' 0.07083472531409032 None]\n",
      "['ResNet_IN' '23' 'Bulge' 8 20.993196226739055 0.076902566879477 '31'\n",
      " 'Skel' 'diff' 'diff' 3.764944418784111 None]\n",
      "['ResNet_IN' '23' 'Bulge' 8 20.993196226739055 0.076902566879477 '31'\n",
      " 'Bulge' 'diff' 'same' 3.2211063783014975 None]\n",
      "['ResNet_IN' '23' 'Bulge' 8 20.993196226739055 0.076902566879477 '26'\n",
      " 'Skel' 'diff' 'diff' 4.388600449408254 None]\n",
      "['ResNet_IN' '23' 'Bulge' 8 20.993196226739055 0.076902566879477 '26'\n",
      " 'Bulge' 'diff' 'same' 3.7143555312387404 None]\n",
      "['ResNet_IN' '31' 'Skel' 8 16.449956949965486 0.03210979475707357 '23'\n",
      " 'Skel' 'diff' 'same' 1.2279169095620033 None]\n",
      "['ResNet_IN' '31' 'Skel' 8 16.449956949965486 0.03210979475707357 '23'\n",
      " 'Bulge' 'diff' 'diff' 4.042491859966709 None]\n"
     ]
    },
    {
     "name": "stderr",
     "output_type": "stream",
     "text": [
      "Clipping input data to the valid range for imshow with RGB data ([0..1] for floats or [0..255] for integers).\n"
     ]
    },
    {
     "name": "stdout",
     "output_type": "stream",
     "text": [
      "['ResNet_IN' '31' 'Skel' 8 16.449956949965486 0.03210979475707357 '31'\n",
      " 'Skel' 'same' 'same' 0.03311648326475294 None]\n",
      "['ResNet_IN' '31' 'Skel' 8 16.449956949965486 0.03210979475707357 '31'\n",
      " 'Bulge' 'same' 'diff' 3.0897313673650064 None]\n",
      "['ResNet_IN' '31' 'Skel' 8 16.449956949965486 0.03210979475707357 '26'\n",
      " 'Skel' 'diff' 'same' 1.515319241150733 None]\n",
      "['ResNet_IN' '31' 'Skel' 8 16.449956949965486 0.03210979475707357 '26'\n",
      " 'Bulge' 'diff' 'diff' 4.028291032198937 None]\n",
      "['ResNet_IN' '31' 'Bulge' 8 24.626435455595775 0.04475420445857209 '23'\n",
      " 'Skel' 'diff' 'diff' 1.958352049512248 None]\n",
      "['ResNet_IN' '31' 'Bulge' 8 24.626435455595775 0.04475420445857209 '23'\n",
      " 'Bulge' 'diff' 'same' 2.2591668881716265 None]\n",
      "['ResNet_IN' '31' 'Bulge' 8 24.626435455595775 0.04475420445857209 '31'\n",
      " 'Skel' 'same' 'diff' 1.9241150194598782 None]\n"
     ]
    },
    {
     "name": "stderr",
     "output_type": "stream",
     "text": [
      "Clipping input data to the valid range for imshow with RGB data ([0..1] for floats or [0..255] for integers).\n"
     ]
    },
    {
     "name": "stdout",
     "output_type": "stream",
     "text": [
      "['ResNet_IN' '31' 'Bulge' 8 24.626435455595775 0.04475420445857209 '31'\n",
      " 'Bulge' 'same' 'same' 0.04996002787694095 None]\n",
      "['ResNet_IN' '31' 'Bulge' 8 24.626435455595775 0.04475420445857209 '26'\n",
      " 'Skel' 'diff' 'diff' 2.976095392819374 None]\n",
      "['ResNet_IN' '31' 'Bulge' 8 24.626435455595775 0.04475420445857209 '26'\n",
      " 'Bulge' 'diff' 'same' 2.9393849151749767 None]\n",
      "['ResNet_IN' '26' 'Skel' 8 19.25157692372581 0.03229197735180928 '23'\n",
      " 'Skel' 'diff' 'same' 1.2731620597262536 None]\n",
      "['ResNet_IN' '26' 'Skel' 8 19.25157692372581 0.03229197735180928 '23'\n",
      " 'Bulge' 'diff' 'diff' 3.4526764548593953 None]\n",
      "['ResNet_IN' '26' 'Skel' 8 19.25157692372581 0.03229197735180928 '31'\n",
      " 'Skel' 'diff' 'same' 1.2632531014180952 None]\n",
      "['ResNet_IN' '26' 'Skel' 8 19.25157692372581 0.03229197735180928 '31'\n",
      " 'Bulge' 'diff' 'diff' 2.9729911425421314 None]\n"
     ]
    },
    {
     "name": "stderr",
     "output_type": "stream",
     "text": [
      "Clipping input data to the valid range for imshow with RGB data ([0..1] for floats or [0..255] for integers).\n"
     ]
    },
    {
     "name": "stdout",
     "output_type": "stream",
     "text": [
      "['ResNet_IN' '26' 'Skel' 8 19.25157692372581 0.03229197735180928 '26'\n",
      " 'Skel' 'same' 'same' 0.043299596951974016 None]\n",
      "['ResNet_IN' '26' 'Skel' 8 19.25157692372581 0.03229197735180928 '26'\n",
      " 'Bulge' 'same' 'diff' 2.057411849498749 None]\n",
      "['ResNet_IN' '26' 'Bulge' 8 23.53257554287707 0.03824040852674854 '23'\n",
      " 'Skel' 'diff' 'diff' 2.3305008896896915 None]\n",
      "['ResNet_IN' '26' 'Bulge' 8 23.53257554287707 0.03824040852674854 '23'\n",
      " 'Bulge' 'diff' 'same' 2.654476999275146 None]\n",
      "['ResNet_IN' '26' 'Bulge' 8 23.53257554287707 0.03824040852674854 '31'\n",
      " 'Skel' 'diff' 'diff' 2.6654182153363384 None]\n",
      "['ResNet_IN' '26' 'Bulge' 8 23.53257554287707 0.03824040852674854 '31'\n",
      " 'Bulge' 'diff' 'same' 2.927119884760149 None]\n",
      "['ResNet_IN' '26' 'Bulge' 8 23.53257554287707 0.03824040852674854 '26'\n",
      " 'Skel' 'same' 'diff' 2.1205212699790157 None]\n"
     ]
    },
    {
     "name": "stderr",
     "output_type": "stream",
     "text": [
      "Clipping input data to the valid range for imshow with RGB data ([0..1] for floats or [0..255] for integers).\n"
     ]
    },
    {
     "name": "stdout",
     "output_type": "stream",
     "text": [
      "['ResNet_IN' '26' 'Bulge' 8 23.53257554287707 0.03824040852674854 '26'\n",
      " 'Bulge' 'same' 'same' 0.05139835845048149 None]\n"
     ]
    },
    {
     "name": "stderr",
     "output_type": "stream",
     "text": [
      "Clipping input data to the valid range for imshow with RGB data ([0..1] for floats or [0..255] for integers).\n"
     ]
    },
    {
     "name": "stdout",
     "output_type": "stream",
     "text": [
      "['CorNet_Z' '23' 'Skel' 35 0.4043169132764301 0.19876533683629766 '23'\n",
      " 'Skel' 'same' 'same' 2.9591975846598224 None]\n",
      "['CorNet_Z' '23' 'Skel' 35 0.4043169132764301 0.19876533683629766 '23'\n",
      " 'Bulge' 'same' 'diff' 5.651370569582908 None]\n",
      "['CorNet_Z' '23' 'Skel' 35 0.4043169132764301 0.19876533683629766 '31'\n",
      " 'Skel' 'diff' 'same' 4.116203848392733 None]\n",
      "['CorNet_Z' '23' 'Skel' 35 0.4043169132764301 0.19876533683629766 '31'\n",
      " 'Bulge' 'diff' 'diff' 6.183980528385408 None]\n",
      "['CorNet_Z' '23' 'Skel' 35 0.4043169132764301 0.19876533683629766 '26'\n",
      " 'Skel' 'diff' 'same' 5.184676514517877 None]\n",
      "['CorNet_Z' '23' 'Skel' 35 0.4043169132764301 0.19876533683629766 '26'\n",
      " 'Bulge' 'diff' 'diff' 6.636553310578869 None]\n",
      "['CorNet_Z' '23' 'Bulge' 34 0.7306920983377965 0.36509924539695343 '23'\n",
      " 'Skel' 'same' 'diff' 2.673915188158712 None]\n"
     ]
    },
    {
     "name": "stderr",
     "output_type": "stream",
     "text": [
      "Clipping input data to the valid range for imshow with RGB data ([0..1] for floats or [0..255] for integers).\n"
     ]
    },
    {
     "name": "stdout",
     "output_type": "stream",
     "text": [
      "['CorNet_Z' '23' 'Bulge' 34 0.7306920983377965 0.36509924539695343 '23'\n",
      " 'Bulge' 'same' 'same' 3.6743394088360573 None]\n",
      "['CorNet_Z' '23' 'Bulge' 34 0.7306920983377965 0.36509924539695343 '31'\n",
      " 'Skel' 'diff' 'diff' 4.126662356238211 None]\n",
      "['CorNet_Z' '23' 'Bulge' 34 0.7306920983377965 0.36509924539695343 '31'\n",
      " 'Bulge' 'diff' 'same' 5.272853034157907 None]\n",
      "['CorNet_Z' '23' 'Bulge' 34 0.7306920983377965 0.36509924539695343 '26'\n",
      " 'Skel' 'diff' 'diff' 5.028157478378665 None]\n",
      "['CorNet_Z' '23' 'Bulge' 34 0.7306920983377965 0.36509924539695343 '26'\n",
      " 'Bulge' 'diff' 'same' 6.068825133385197 None]\n",
      "['CorNet_Z' '31' 'Skel' 39 0.3704900529175516 0.1839318828086459 '23'\n",
      " 'Skel' 'diff' 'same' 0.9527825568952868 None]\n",
      "['CorNet_Z' '31' 'Skel' 39 0.3704900529175516 0.1839318828086459 '23'\n",
      " 'Bulge' 'diff' 'diff' 2.2412436224760546 None]\n"
     ]
    },
    {
     "name": "stderr",
     "output_type": "stream",
     "text": [
      "Clipping input data to the valid range for imshow with RGB data ([0..1] for floats or [0..255] for integers).\n"
     ]
    },
    {
     "name": "stdout",
     "output_type": "stream",
     "text": [
      "['CorNet_Z' '31' 'Skel' 39 0.3704900529175516 0.1839318828086459 '31'\n",
      " 'Skel' 'same' 'same' 0.6297333730805305 None]\n",
      "['CorNet_Z' '31' 'Skel' 39 0.3704900529175516 0.1839318828086459 '31'\n",
      " 'Bulge' 'same' 'diff' 1.7227625284464128 None]\n",
      "['CorNet_Z' '31' 'Skel' 39 0.3704900529175516 0.1839318828086459 '26'\n",
      " 'Skel' 'diff' 'same' 1.2400258577639056 None]\n",
      "['CorNet_Z' '31' 'Skel' 39 0.3704900529175516 0.1839318828086459 '26'\n",
      " 'Bulge' 'diff' 'diff' 2.4026578198517523 None]\n",
      "['CorNet_Z' '31' 'Bulge' 39 0.5732368157215175 0.28185823454611725 '23'\n",
      " 'Skel' 'diff' 'diff' 1.368482050395781 None]\n",
      "['CorNet_Z' '31' 'Bulge' 39 0.5732368157215175 0.28185823454611725 '23'\n",
      " 'Bulge' 'diff' 'same' 2.385266100687365 None]\n",
      "['CorNet_Z' '31' 'Bulge' 39 0.5732368157215175 0.28185823454611725 '31'\n",
      " 'Skel' 'same' 'diff' 1.488195916577693 None]\n"
     ]
    },
    {
     "name": "stderr",
     "output_type": "stream",
     "text": [
      "Clipping input data to the valid range for imshow with RGB data ([0..1] for floats or [0..255] for integers).\n"
     ]
    },
    {
     "name": "stdout",
     "output_type": "stream",
     "text": [
      "['CorNet_Z' '31' 'Bulge' 39 0.5732368157215175 0.28185823454611725 '31'\n",
      " 'Bulge' 'same' 'same' 1.5038652290259638 None]\n",
      "['CorNet_Z' '31' 'Bulge' 39 0.5732368157215175 0.28185823454611725 '26'\n",
      " 'Skel' 'diff' 'diff' 1.9895076246992234 None]\n",
      "['CorNet_Z' '31' 'Bulge' 39 0.5732368157215175 0.28185823454611725 '26'\n",
      " 'Bulge' 'diff' 'same' 2.97067214404383 None]\n",
      "['CorNet_Z' '26' 'Skel' 25 0.29502781153085733 0.14420977415096375 '23'\n",
      " 'Skel' 'diff' 'same' 1.796716000283918 None]\n",
      "['CorNet_Z' '26' 'Skel' 25 0.29502781153085733 0.14420977415096375 '23'\n",
      " 'Bulge' 'diff' 'diff' 3.4901856722370272 None]\n",
      "['CorNet_Z' '26' 'Skel' 25 0.29502781153085733 0.14420977415096375 '31'\n",
      " 'Skel' 'diff' 'same' 2.2809065133333206 None]\n",
      "['CorNet_Z' '26' 'Skel' 25 0.29502781153085733 0.14420977415096375 '31'\n",
      " 'Bulge' 'diff' 'diff' 3.8491139950290805 None]\n"
     ]
    },
    {
     "name": "stderr",
     "output_type": "stream",
     "text": [
      "Clipping input data to the valid range for imshow with RGB data ([0..1] for floats or [0..255] for integers).\n"
     ]
    },
    {
     "name": "stdout",
     "output_type": "stream",
     "text": [
      "['CorNet_Z' '26' 'Skel' 25 0.29502781153085733 0.14420977415096375 '26'\n",
      " 'Skel' 'same' 'same' 1.6904997796781602 None]\n",
      "['CorNet_Z' '26' 'Skel' 25 0.29502781153085733 0.14420977415096375 '26'\n",
      " 'Bulge' 'same' 'diff' 3.203935245352407 None]\n",
      "['CorNet_Z' '26' 'Bulge' 24 0.44908559284803845 0.22120211069141665 '23'\n",
      " 'Skel' 'diff' 'diff' 1.7207193504418097 None]\n",
      "['CorNet_Z' '26' 'Bulge' 24 0.44908559284803845 0.22120211069141665 '23'\n",
      " 'Bulge' 'diff' 'same' 3.2892199091372953 None]\n",
      "['CorNet_Z' '26' 'Bulge' 24 0.44908559284803845 0.22120211069141665 '31'\n",
      " 'Skel' 'diff' 'diff' 2.594113964226938 None]\n",
      "['CorNet_Z' '26' 'Bulge' 24 0.44908559284803845 0.22120211069141665 '31'\n",
      " 'Bulge' 'diff' 'same' 3.7874139239711146 None]\n",
      "['CorNet_Z' '26' 'Bulge' 24 0.44908559284803845 0.22120211069141665 '26'\n",
      " 'Skel' 'same' 'diff' 1.900235062164645 None]\n"
     ]
    },
    {
     "name": "stderr",
     "output_type": "stream",
     "text": [
      "Clipping input data to the valid range for imshow with RGB data ([0..1] for floats or [0..255] for integers).\n"
     ]
    },
    {
     "name": "stdout",
     "output_type": "stream",
     "text": [
      "['CorNet_Z' '26' 'Bulge' 24 0.44908559284803845 0.22120211069141665 '26'\n",
      " 'Bulge' 'same' 'same' 1.7785731222360366 None]\n"
     ]
    },
    {
     "name": "stderr",
     "output_type": "stream",
     "text": [
      "Clipping input data to the valid range for imshow with RGB data ([0..1] for floats or [0..255] for integers).\n"
     ]
    },
    {
     "name": "stdout",
     "output_type": "stream",
     "text": [
      "['CorNet_S' '23' 'Skel' 8 25.645451184902942 0.2689237411043817 '23'\n",
      " 'Skel' 'same' 'same' 23.96241654888276 None]\n",
      "['CorNet_S' '23' 'Skel' 8 25.645451184902942 0.2689237411043817 '23'\n",
      " 'Bulge' 'same' 'diff' 49.689207361590476 None]\n",
      "['CorNet_S' '23' 'Skel' 8 25.645451184902942 0.2689237411043817 '31'\n",
      " 'Skel' 'diff' 'same' 29.93097972869873 None]\n",
      "['CorNet_S' '23' 'Skel' 8 25.645451184902942 0.2689237411043817 '31'\n",
      " 'Bulge' 'diff' 'diff' 52.24849510192871 None]\n",
      "['CorNet_S' '23' 'Skel' 8 25.645451184902942 0.2689237411043817 '26'\n",
      " 'Skel' 'diff' 'same' 31.336629513771303 None]\n",
      "['CorNet_S' '23' 'Skel' 8 25.645451184902942 0.2689237411043817 '26'\n",
      " 'Bulge' 'diff' 'diff' 52.3135019117786 None]\n",
      "['CorNet_S' '23' 'Bulge' 8 58.543762327862844 0.5231565596205333 '23'\n",
      " 'Skel' 'same' 'diff' 36.2609855897965 None]\n"
     ]
    },
    {
     "name": "stderr",
     "output_type": "stream",
     "text": [
      "Clipping input data to the valid range for imshow with RGB data ([0..1] for floats or [0..255] for integers).\n"
     ]
    },
    {
     "name": "stdout",
     "output_type": "stream",
     "text": [
      "['CorNet_S' '23' 'Bulge' 8 58.543762327862844 0.5231565596205333 '23'\n",
      " 'Bulge' 'same' 'same' 70.03983225360993 None]\n",
      "['CorNet_S' '23' 'Bulge' 8 58.543762327862844 0.5231565596205333 '31'\n",
      " 'Skel' 'diff' 'diff' 44.751118413863644 None]\n",
      "['CorNet_S' '23' 'Bulge' 8 58.543762327862844 0.5231565596205333 '31'\n",
      " 'Bulge' 'diff' 'same' 78.69409754968459 None]\n",
      "['CorNet_S' '23' 'Bulge' 8 58.543762327862844 0.5231565596205333 '26'\n",
      " 'Skel' 'diff' 'diff' 47.97335960019019 None]\n",
      "['CorNet_S' '23' 'Bulge' 8 58.543762327862844 0.5231565596205333 '26'\n",
      " 'Bulge' 'diff' 'same' 76.86997390562489 None]\n",
      "['CorNet_S' '31' 'Skel' 8 31.29874552903517 0.23808743453945122 '23'\n",
      " 'Skel' 'diff' 'same' 87.7863518191922 None]\n",
      "['CorNet_S' '31' 'Skel' 8 31.29874552903517 0.23808743453945122 '23'\n",
      " 'Bulge' 'diff' 'diff' 212.46316571389474 None]\n"
     ]
    },
    {
     "name": "stderr",
     "output_type": "stream",
     "text": [
      "/home/vayzenbe/anaconda3/lib/python3.7/site-packages/ipykernel_launcher.py:3: RuntimeWarning: More than 20 figures have been opened. Figures created through the pyplot interface (`matplotlib.pyplot.figure`) are retained until explicitly closed and may consume too much memory. (To control this warning, see the rcParam `figure.max_open_warning`).\n",
      "  This is separate from the ipykernel package so we can avoid doing imports until\n",
      "Clipping input data to the valid range for imshow with RGB data ([0..1] for floats or [0..255] for integers).\n"
     ]
    },
    {
     "name": "stdout",
     "output_type": "stream",
     "text": [
      "['CorNet_S' '31' 'Skel' 8 31.29874552903517 0.23808743453945122 '31'\n",
      " 'Skel' 'same' 'same' 115.2206762990644 None]\n",
      "['CorNet_S' '31' 'Skel' 8 31.29874552903517 0.23808743453945122 '31'\n",
      " 'Bulge' 'same' 'diff' 249.5182946112848 None]\n",
      "['CorNet_S' '31' 'Skel' 8 31.29874552903517 0.23808743453945122 '26'\n",
      " 'Skel' 'diff' 'same' 107.055435580592 None]\n",
      "['CorNet_S' '31' 'Skel' 8 31.29874552903517 0.23808743453945122 '26'\n",
      " 'Bulge' 'diff' 'diff' 210.44262584563225 None]\n",
      "['CorNet_S' '31' 'Bulge' 8 59.33738044724469 0.353778314634016 '23' 'Skel'\n",
      " 'diff' 'diff' 12.458674584665607 None]\n",
      "['CorNet_S' '31' 'Bulge' 8 59.33738044724469 0.353778314634016 '23'\n",
      " 'Bulge' 'diff' 'same' 26.48460748887831 None]\n",
      "['CorNet_S' '31' 'Bulge' 8 59.33738044724469 0.353778314634016 '31' 'Skel'\n",
      " 'same' 'diff' 14.657684883763713 None]\n"
     ]
    },
    {
     "name": "stderr",
     "output_type": "stream",
     "text": [
      "Clipping input data to the valid range for imshow with RGB data ([0..1] for floats or [0..255] for integers).\n"
     ]
    },
    {
     "name": "stdout",
     "output_type": "stream",
     "text": [
      "['CorNet_S' '31' 'Bulge' 8 59.33738044724469 0.353778314634016 '31'\n",
      " 'Bulge' 'same' 'same' 25.21115413788826 None]\n",
      "['CorNet_S' '31' 'Bulge' 8 59.33738044724469 0.353778314634016 '26' 'Skel'\n",
      " 'diff' 'diff' 15.076847522489485 None]\n",
      "['CorNet_S' '31' 'Bulge' 8 59.33738044724469 0.353778314634016 '26'\n",
      " 'Bulge' 'diff' 'same' 25.249826738911292 None]\n",
      "['CorNet_S' '26' 'Skel' 8 31.9872138105453 0.18597504988147487 '23' 'Skel'\n",
      " 'diff' 'same' 18.88273775577545 None]\n",
      "['CorNet_S' '26' 'Skel' 8 31.9872138105453 0.18597504988147487 '23'\n",
      " 'Bulge' 'diff' 'diff' 43.976157857525735 None]\n",
      "['CorNet_S' '26' 'Skel' 8 31.9872138105453 0.18597504988147487 '31' 'Skel'\n",
      " 'diff' 'same' 23.111093721082135 None]\n",
      "['CorNet_S' '26' 'Skel' 8 31.9872138105453 0.18597504988147487 '31'\n",
      " 'Bulge' 'diff' 'diff' 47.29012137074624 None]\n"
     ]
    },
    {
     "name": "stderr",
     "output_type": "stream",
     "text": [
      "Clipping input data to the valid range for imshow with RGB data ([0..1] for floats or [0..255] for integers).\n"
     ]
    },
    {
     "name": "stdout",
     "output_type": "stream",
     "text": [
      "['CorNet_S' '26' 'Skel' 8 31.9872138105453 0.18597504988147487 '26' 'Skel'\n",
      " 'same' 'same' 24.059186204787224 None]\n",
      "['CorNet_S' '26' 'Skel' 8 31.9872138105453 0.18597504988147487 '26'\n",
      " 'Bulge' 'same' 'diff' 45.373477535863074 None]\n",
      "['CorNet_S' '26' 'Bulge' 8 57.82415290714632 0.28997324275664027 '23'\n",
      " 'Skel' 'diff' 'diff' 13.440894076901097 None]\n",
      "['CorNet_S' '26' 'Bulge' 8 57.82415290714632 0.28997324275664027 '23'\n",
      " 'Bulge' 'diff' 'same' 23.892541593120946 None]\n",
      "['CorNet_S' '26' 'Bulge' 8 57.82415290714632 0.28997324275664027 '31'\n",
      " 'Skel' 'diff' 'diff' 15.060644222844031 None]\n",
      "['CorNet_S' '26' 'Bulge' 8 57.82415290714632 0.28997324275664027 '31'\n",
      " 'Bulge' 'diff' 'same' 26.66869741870511 None]\n",
      "['CorNet_S' '26' 'Bulge' 8 57.82415290714632 0.28997324275664027 '26'\n",
      " 'Skel' 'same' 'diff' 15.213759660720825 None]\n"
     ]
    },
    {
     "name": "stderr",
     "output_type": "stream",
     "text": [
      "Clipping input data to the valid range for imshow with RGB data ([0..1] for floats or [0..255] for integers).\n"
     ]
    },
    {
     "name": "stdout",
     "output_type": "stream",
     "text": [
      "['CorNet_S' '26' 'Bulge' 8 57.82415290714632 0.28997324275664027 '26'\n",
      " 'Bulge' 'same' 'same' 23.651535680217126 None]\n"
     ]
    },
    {
     "name": "stderr",
     "output_type": "stream",
     "text": [
      "Clipping input data to the valid range for imshow with RGB data ([0..1] for floats or [0..255] for integers).\n"
     ]
    },
    {
     "name": "stdout",
     "output_type": "stream",
     "text": [
      "['SayCam' '23' 'Skel' 8 11.957315270736393 0.06772207162312924 '23' 'Skel'\n",
      " 'same' 'same' 0.06447072570482569 None]\n",
      "['SayCam' '23' 'Skel' 8 11.957315270736393 0.06772207162312924 '23'\n",
      " 'Bulge' 'same' 'diff' 2.4529223355554763 None]\n",
      "['SayCam' '23' 'Skel' 8 11.957315270736393 0.06772207162312924 '31' 'Skel'\n",
      " 'diff' 'same' 1.2969192458737282 None]\n",
      "['SayCam' '23' 'Skel' 8 11.957315270736393 0.06772207162312924 '31'\n",
      " 'Bulge' 'diff' 'diff' 2.463281668962971 None]\n",
      "['SayCam' '23' 'Skel' 8 11.957315270736393 0.06772207162312924 '26' 'Skel'\n",
      " 'diff' 'same' 1.4656929099752056 None]\n",
      "['SayCam' '23' 'Skel' 8 11.957315270736393 0.06772207162312924 '26'\n",
      " 'Bulge' 'diff' 'diff' 2.9750011947847184 None]\n",
      "['SayCam' '23' 'Bulge' 8 13.40005887251708 0.06092520160675649 '23' 'Skel'\n",
      " 'same' 'diff' 4.871231863575597 None]\n"
     ]
    },
    {
     "name": "stderr",
     "output_type": "stream",
     "text": [
      "Clipping input data to the valid range for imshow with RGB data ([0..1] for floats or [0..255] for integers).\n"
     ]
    },
    {
     "name": "stdout",
     "output_type": "stream",
     "text": [
      "['SayCam' '23' 'Bulge' 8 13.40005887251708 0.06092520160675649 '23'\n",
      " 'Bulge' 'same' 'same' 0.06873906094340547 None]\n",
      "['SayCam' '23' 'Bulge' 8 13.40005887251708 0.06092520160675649 '31' 'Skel'\n",
      " 'diff' 'diff' 7.233591798813112 None]\n",
      "['SayCam' '23' 'Bulge' 8 13.40005887251708 0.06092520160675649 '31'\n",
      " 'Bulge' 'diff' 'same' 3.1062636654223166 None]\n",
      "['SayCam' '23' 'Bulge' 8 13.40005887251708 0.06092520160675649 '26' 'Skel'\n",
      " 'diff' 'diff' 7.405530860347133 None]\n",
      "['SayCam' '23' 'Bulge' 8 13.40005887251708 0.06092520160675649 '26'\n",
      " 'Bulge' 'diff' 'same' 2.7812458815113192 None]\n",
      "['SayCam' '31' 'Skel' 8 9.69640482235099 0.03527065711058376 '23' 'Skel'\n",
      " 'diff' 'same' 2.6092070533383276 None]\n",
      "['SayCam' '31' 'Skel' 8 9.69640482235099 0.03527065711058376 '23' 'Bulge'\n",
      " 'diff' 'diff' 7.605987493068941 None]\n"
     ]
    },
    {
     "name": "stderr",
     "output_type": "stream",
     "text": [
      "Clipping input data to the valid range for imshow with RGB data ([0..1] for floats or [0..255] for integers).\n"
     ]
    },
    {
     "name": "stdout",
     "output_type": "stream",
     "text": [
      "['SayCam' '31' 'Skel' 8 9.69640482235099 0.03527065711058376 '31' 'Skel'\n",
      " 'same' 'same' 0.042481232043956554 None]\n",
      "['SayCam' '31' 'Skel' 8 9.69640482235099 0.03527065711058376 '31' 'Bulge'\n",
      " 'same' 'diff' 3.8308027175164994 None]\n",
      "['SayCam' '31' 'Skel' 8 9.69640482235099 0.03527065711058376 '26' 'Skel'\n",
      " 'diff' 'same' 1.6515559731952605 None]\n",
      "['SayCam' '31' 'Skel' 8 9.69640482235099 0.03527065711058376 '26' 'Bulge'\n",
      " 'diff' 'diff' 10.010633807028494 None]\n",
      "['SayCam' '31' 'Bulge' 8 12.922138385568564 0.043035851988656025 '23'\n",
      " 'Skel' 'diff' 'diff' 2.2320658828943007 None]\n",
      "['SayCam' '31' 'Bulge' 8 12.922138385568564 0.043035851988656025 '23'\n",
      " 'Bulge' 'diff' 'same' 2.693930321162747 None]\n",
      "['SayCam' '31' 'Bulge' 8 12.922138385568564 0.043035851988656025 '31'\n",
      " 'Skel' 'same' 'diff' 1.4652421455229483 None]\n"
     ]
    },
    {
     "name": "stderr",
     "output_type": "stream",
     "text": [
      "Clipping input data to the valid range for imshow with RGB data ([0..1] for floats or [0..255] for integers).\n"
     ]
    },
    {
     "name": "stdout",
     "output_type": "stream",
     "text": [
      "['SayCam' '31' 'Bulge' 8 12.922138385568564 0.043035851988656025 '31'\n",
      " 'Bulge' 'same' 'same' 0.0674780762994722 None]\n",
      "['SayCam' '31' 'Bulge' 8 12.922138385568564 0.043035851988656025 '26'\n",
      " 'Skel' 'diff' 'diff' 2.7722974227320765 None]\n",
      "['SayCam' '31' 'Bulge' 8 12.922138385568564 0.043035851988656025 '26'\n",
      " 'Bulge' 'diff' 'same' 3.6250419885881486 None]\n",
      "['SayCam' '26' 'Skel' 8 11.217227548024722 0.034817217339408554 '23'\n",
      " 'Skel' 'diff' 'same' 2.946741932822812 None]\n",
      "['SayCam' '26' 'Skel' 8 11.217227548024722 0.034817217339408554 '23'\n",
      " 'Bulge' 'diff' 'diff' 9.666201137727306 None]\n",
      "['SayCam' '26' 'Skel' 8 11.217227548024722 0.034817217339408554 '31'\n",
      " 'Skel' 'diff' 'same' 1.3846165537834167 None]\n",
      "['SayCam' '26' 'Skel' 8 11.217227548024722 0.034817217339408554 '31'\n",
      " 'Bulge' 'diff' 'diff' 5.017527723504651 None]\n"
     ]
    },
    {
     "name": "stderr",
     "output_type": "stream",
     "text": [
      "Clipping input data to the valid range for imshow with RGB data ([0..1] for floats or [0..255] for integers).\n"
     ]
    },
    {
     "name": "stdout",
     "output_type": "stream",
     "text": [
      "['SayCam' '26' 'Skel' 8 11.217227548024722 0.034817217339408554 '26'\n",
      " 'Skel' 'same' 'same' 0.047409140204470006 None]\n",
      "['SayCam' '26' 'Skel' 8 11.217227548024722 0.034817217339408554 '26'\n",
      " 'Bulge' 'same' 'diff' 8.792540407949879 None]\n",
      "['SayCam' '26' 'Bulge' 8 16.527477337314085 0.051975587854206924 '23'\n",
      " 'Skel' 'diff' 'diff' 2.778119977443449 None]\n",
      "['SayCam' '26' 'Bulge' 8 16.527477337314085 0.051975587854206924 '23'\n",
      " 'Bulge' 'diff' 'same' 2.5124292921635414 None]\n",
      "['SayCam' '26' 'Bulge' 8 16.527477337314085 0.051975587854206924 '31'\n",
      " 'Skel' 'diff' 'diff' 3.421085303829562 None]\n",
      "['SayCam' '26' 'Bulge' 8 16.527477337314085 0.051975587854206924 '31'\n",
      " 'Bulge' 'diff' 'same' 3.161159718228925 None]\n",
      "['SayCam' '26' 'Bulge' 8 16.527477337314085 0.051975587854206924 '26'\n",
      " 'Skel' 'same' 'diff' 2.2807232333767797 None]\n"
     ]
    },
    {
     "name": "stderr",
     "output_type": "stream",
     "text": [
      "Clipping input data to the valid range for imshow with RGB data ([0..1] for floats or [0..255] for integers).\n"
     ]
    },
    {
     "name": "stdout",
     "output_type": "stream",
     "text": [
      "['SayCam' '26' 'Bulge' 8 16.527477337314085 0.051975587854206924 '26'\n",
      " 'Bulge' 'same' 'same' 0.04910494818262035 None]\n"
     ]
    },
    {
     "name": "stderr",
     "output_type": "stream",
     "text": [
      "Clipping input data to the valid range for imshow with RGB data ([0..1] for floats or [0..255] for integers).\n"
     ]
    },
    {
     "name": "stdout",
     "output_type": "stream",
     "text": [
      "['ResNet_SN' '31_0' 'Skel' 8 13.826907288335684 0.041324263252693436\n",
      " '31_0' 'Skel' 'same' 'same' 0.046269630938167536 None]\n",
      "['ResNet_SN' '31_0' 'Skel' 8 13.826907288335684 0.041324263252693436\n",
      " '31_0' 'Bulge' 'same' 'diff' 2.320158943053215 None]\n",
      "['ResNet_SN' '31_0' 'Skel' 8 13.826907288335684 0.041324263252693436\n",
      " '31_50' 'Skel' 'diff' 'same' 0.9708723711871332 None]\n",
      "['ResNet_SN' '31_0' 'Skel' 8 13.826907288335684 0.041324263252693436\n",
      " '31_50' 'Bulge' 'diff' 'diff' 2.6888668777481204 None]\n",
      "['ResNet_SN' '31_0' 'Bulge' 8 21.790688889356513 0.0485964204117115 '31_0'\n",
      " 'Skel' 'same' 'diff' 2.761873301959807 None]\n"
     ]
    },
    {
     "name": "stderr",
     "output_type": "stream",
     "text": [
      "Clipping input data to the valid range for imshow with RGB data ([0..1] for floats or [0..255] for integers).\n"
     ]
    },
    {
     "name": "stdout",
     "output_type": "stream",
     "text": [
      "['ResNet_SN' '31_0' 'Bulge' 8 21.790688889356513 0.0485964204117115 '31_0'\n",
      " 'Bulge' 'same' 'same' 0.04684399999678135 None]\n",
      "['ResNet_SN' '31_0' 'Bulge' 8 21.790688889356513 0.0485964204117115\n",
      " '31_50' 'Skel' 'diff' 'diff' 3.1660588720152454 None]\n",
      "['ResNet_SN' '31_0' 'Bulge' 8 21.790688889356513 0.0485964204117115\n",
      " '31_50' 'Bulge' 'diff' 'same' 1.43591975156338 None]\n",
      "['ResNet_SN' '31_50' 'Skel' 8 14.540663999426478 0.04953165907382725\n",
      " '31_0' 'Skel' 'diff' 'same' 0.8717231327487577 None]\n",
      "['ResNet_SN' '31_50' 'Skel' 8 14.540663999426478 0.04953165907382725\n",
      " '31_0' 'Bulge' 'diff' 'diff' 3.9684464402737154 None]\n"
     ]
    },
    {
     "name": "stderr",
     "output_type": "stream",
     "text": [
      "Clipping input data to the valid range for imshow with RGB data ([0..1] for floats or [0..255] for integers).\n"
     ]
    },
    {
     "name": "stdout",
     "output_type": "stream",
     "text": [
      "['ResNet_SN' '31_50' 'Skel' 8 14.540663999426478 0.04953165907382725\n",
      " '31_50' 'Skel' 'same' 'same' 0.07268182584835638 None]\n",
      "['ResNet_SN' '31_50' 'Skel' 8 14.540663999426478 0.04953165907382725\n",
      " '31_50' 'Bulge' 'same' 'diff' 3.3573927148695915 None]\n",
      "['ResNet_SN' '31_50' 'Bulge' 8 19.898996155881772 0.049751959579636254\n",
      " '31_0' 'Skel' 'diff' 'diff' 1.9313499427610827 None]\n",
      "['ResNet_SN' '31_50' 'Bulge' 8 19.898996155881772 0.049751959579636254\n",
      " '31_0' 'Bulge' 'diff' 'same' 1.2090537995100021 None]\n",
      "['ResNet_SN' '31_50' 'Bulge' 8 19.898996155881772 0.049751959579636254\n",
      " '31_50' 'Skel' 'same' 'diff' 1.9419719240357798 None]\n"
     ]
    },
    {
     "name": "stderr",
     "output_type": "stream",
     "text": [
      "Clipping input data to the valid range for imshow with RGB data ([0..1] for floats or [0..255] for integers).\n"
     ]
    },
    {
     "name": "stdout",
     "output_type": "stream",
     "text": [
      "['ResNet_SN' '31_50' 'Bulge' 8 19.898996155881772 0.049751959579636254\n",
      " '31_50' 'Bulge' 'same' 'same' 0.04803211709123946 None]\n"
     ]
    },
    {
     "name": "stderr",
     "output_type": "stream",
     "text": [
      "Clipping input data to the valid range for imshow with RGB data ([0..1] for floats or [0..255] for integers).\n"
     ]
    },
    {
     "name": "stdout",
     "output_type": "stream",
     "text": [
      "['ResNet_IN' '31_0' 'Skel' 8 17.10081964961418 0.040809571136525204 '31_0'\n",
      " 'Skel' 'same' 'same' 0.040672740793877074 None]\n",
      "['ResNet_IN' '31_0' 'Skel' 8 17.10081964961418 0.040809571136525204 '31_0'\n",
      " 'Bulge' 'same' 'diff' 3.0708916759298694 None]\n",
      "['ResNet_IN' '31_0' 'Skel' 8 17.10081964961418 0.040809571136525204\n",
      " '31_50' 'Skel' 'diff' 'same' 0.9899749638092133 None]\n",
      "['ResNet_IN' '31_0' 'Skel' 8 17.10081964961418 0.040809571136525204\n",
      " '31_50' 'Bulge' 'diff' 'diff' 3.40092779936329 None]\n",
      "['ResNet_IN' '31_0' 'Bulge' 8 22.773920318539883 0.05019667775430266\n",
      " '31_0' 'Skel' 'same' 'diff' 2.58680946019388 None]\n"
     ]
    },
    {
     "name": "stderr",
     "output_type": "stream",
     "text": [
      "Clipping input data to the valid range for imshow with RGB data ([0..1] for floats or [0..255] for integers).\n"
     ]
    },
    {
     "name": "stdout",
     "output_type": "stream",
     "text": [
      "['ResNet_IN' '31_0' 'Bulge' 8 22.773920318539883 0.05019667775430266\n",
      " '31_0' 'Bulge' 'same' 'same' 0.0483010048947988 None]\n",
      "['ResNet_IN' '31_0' 'Bulge' 8 22.773920318539883 0.05019667775430266\n",
      " '31_50' 'Skel' 'diff' 'diff' 3.273303586629129 None]\n",
      "['ResNet_IN' '31_0' 'Bulge' 8 22.773920318539883 0.05019667775430266\n",
      " '31_50' 'Bulge' 'diff' 'same' 1.5351893478824246 None]\n",
      "['ResNet_IN' '31_50' 'Skel' 8 22.00526276984883 0.06062466967400284 '31_0'\n",
      " 'Skel' 'diff' 'same' 0.8315112179806156 None]\n",
      "['ResNet_IN' '31_50' 'Skel' 8 22.00526276984883 0.06062466967400284 '31_0'\n",
      " 'Bulge' 'diff' 'diff' 3.2151815391355947 None]\n"
     ]
    },
    {
     "name": "stderr",
     "output_type": "stream",
     "text": [
      "Clipping input data to the valid range for imshow with RGB data ([0..1] for floats or [0..255] for integers).\n"
     ]
    },
    {
     "name": "stdout",
     "output_type": "stream",
     "text": [
      "['ResNet_IN' '31_50' 'Skel' 8 22.00526276984883 0.06062466967400284\n",
      " '31_50' 'Skel' 'same' 'same' 0.06075407738887494 None]\n",
      "['ResNet_IN' '31_50' 'Skel' 8 22.00526276984883 0.06062466967400284\n",
      " '31_50' 'Bulge' 'same' 'diff' 3.163463592529297 None]\n",
      "['ResNet_IN' '31_50' 'Bulge' 8 24.660988279689672 0.043487956638508025\n",
      " '31_0' 'Skel' 'diff' 'diff' 1.5568873185303904 None]\n",
      "['ResNet_IN' '31_50' 'Bulge' 8 24.660988279689672 0.043487956638508025\n",
      " '31_0' 'Bulge' 'diff' 'same' 1.2775726308745723 None]\n",
      "['ResNet_IN' '31_50' 'Bulge' 8 24.660988279689672 0.043487956638508025\n",
      " '31_50' 'Skel' 'same' 'diff' 1.6123252438922082 None]\n"
     ]
    },
    {
     "name": "stderr",
     "output_type": "stream",
     "text": [
      "Clipping input data to the valid range for imshow with RGB data ([0..1] for floats or [0..255] for integers).\n"
     ]
    },
    {
     "name": "stdout",
     "output_type": "stream",
     "text": [
      "['ResNet_IN' '31_50' 'Bulge' 8 24.660988279689672 0.043487956638508025\n",
      " '31_50' 'Bulge' 'same' 'same' 0.047728682327414715 None]\n"
     ]
    },
    {
     "name": "stderr",
     "output_type": "stream",
     "text": [
      "Clipping input data to the valid range for imshow with RGB data ([0..1] for floats or [0..255] for integers).\n"
     ]
    },
    {
     "name": "stdout",
     "output_type": "stream",
     "text": [
      "['CorNet_Z' '31_0' 'Skel' 31 0.3582155128730642 0.1781508549897661 '31_0'\n",
      " 'Skel' 'same' 'same' 1.3561494557126876 None]\n",
      "['CorNet_Z' '31_0' 'Skel' 31 0.3582155128730642 0.1781508549897661 '31_0'\n",
      " 'Bulge' 'same' 'diff' 2.9971785641485647 None]\n",
      "['CorNet_Z' '31_0' 'Skel' 31 0.3582155128730642 0.1781508549897661 '31_50'\n",
      " 'Skel' 'diff' 'same' 1.792826299705813 None]\n",
      "['CorNet_Z' '31_0' 'Skel' 31 0.3582155128730642 0.1781508549897661 '31_50'\n",
      " 'Bulge' 'diff' 'diff' 3.0672158416240447 None]\n",
      "['CorNet_Z' '31_0' 'Bulge' 31 0.5919619530980145 0.29155912385472366\n",
      " '31_0' 'Skel' 'same' 'diff' 1.0603062270149108 None]\n"
     ]
    },
    {
     "name": "stderr",
     "output_type": "stream",
     "text": [
      "Clipping input data to the valid range for imshow with RGB data ([0..1] for floats or [0..255] for integers).\n"
     ]
    },
    {
     "name": "stdout",
     "output_type": "stream",
     "text": [
      "['CorNet_Z' '31_0' 'Bulge' 31 0.5919619530980145 0.29155912385472366\n",
      " '31_0' 'Bulge' 'same' 'same' 1.218743527608533 None]\n",
      "['CorNet_Z' '31_0' 'Bulge' 31 0.5919619530980145 0.29155912385472366\n",
      " '31_50' 'Skel' 'diff' 'diff' 1.2196683566416464 None]\n",
      "['CorNet_Z' '31_0' 'Bulge' 31 0.5919619530980145 0.29155912385472366\n",
      " '31_50' 'Bulge' 'diff' 'same' 1.6707920345567888 None]\n",
      "['CorNet_Z' '31_50' 'Skel' 34 0.3803253050352777 0.18987325867337565\n",
      " '31_0' 'Skel' 'diff' 'same' 0.8483069777008025 None]\n",
      "['CorNet_Z' '31_50' 'Skel' 34 0.3803253050352777 0.18987325867337565\n",
      " '31_0' 'Bulge' 'diff' 'diff' 1.6413562807344622 None]\n"
     ]
    },
    {
     "name": "stderr",
     "output_type": "stream",
     "text": [
      "Clipping input data to the valid range for imshow with RGB data ([0..1] for floats or [0..255] for integers).\n"
     ]
    },
    {
     "name": "stdout",
     "output_type": "stream",
     "text": [
      "['CorNet_Z' '31_50' 'Skel' 34 0.3803253050352777 0.18987325867337565\n",
      " '31_50' 'Skel' 'same' 'same' 0.7243911072371467 None]\n",
      "['CorNet_Z' '31_50' 'Skel' 34 0.3803253050352777 0.18987325867337565\n",
      " '31_50' 'Bulge' 'same' 'diff' 1.7167215823165831 None]\n",
      "['CorNet_Z' '31_50' 'Bulge' 33 0.6077124903639478 0.3023230646466536\n",
      " '31_0' 'Skel' 'diff' 'diff' 4.943576260920493 None]\n",
      "['CorNet_Z' '31_50' 'Bulge' 33 0.6077124903639478 0.3023230646466536\n",
      " '31_0' 'Bulge' 'diff' 'same' 7.219308993508739 None]\n",
      "['CorNet_Z' '31_50' 'Bulge' 33 0.6077124903639478 0.3023230646466536\n",
      " '31_50' 'Skel' 'same' 'diff' 4.7892626927744955 None]\n"
     ]
    },
    {
     "name": "stderr",
     "output_type": "stream",
     "text": [
      "Clipping input data to the valid range for imshow with RGB data ([0..1] for floats or [0..255] for integers).\n"
     ]
    },
    {
     "name": "stdout",
     "output_type": "stream",
     "text": [
      "['CorNet_Z' '31_50' 'Bulge' 33 0.6077124903639478 0.3023230646466536\n",
      " '31_50' 'Bulge' 'same' 'same' 6.007373609850483 None]\n"
     ]
    },
    {
     "name": "stderr",
     "output_type": "stream",
     "text": [
      "Clipping input data to the valid range for imshow with RGB data ([0..1] for floats or [0..255] for integers).\n"
     ]
    },
    {
     "name": "stdout",
     "output_type": "stream",
     "text": [
      "['CorNet_S' '31_0' 'Skel' 8 34.042223479673865 0.18909691957636707 '31_0'\n",
      " 'Skel' 'same' 'same' 13.10412460373294 None]\n",
      "['CorNet_S' '31_0' 'Skel' 8 34.042223479673865 0.18909691957636707 '31_0'\n",
      " 'Bulge' 'same' 'diff' 23.973013754813902 None]\n",
      "['CorNet_S' '31_0' 'Skel' 8 34.042223479673865 0.18909691957636707 '31_50'\n",
      " 'Skel' 'diff' 'same' 14.05681541658217 None]\n",
      "['CorNet_S' '31_0' 'Skel' 8 34.042223479673865 0.18909691957636707 '31_50'\n",
      " 'Bulge' 'diff' 'diff' 25.99116797601023 None]\n",
      "['CorNet_S' '31_0' 'Bulge' 8 62.16257246917174 0.30321965652758315 '31_0'\n",
      " 'Skel' 'same' 'diff' 57.86971567523095 None]\n"
     ]
    },
    {
     "name": "stderr",
     "output_type": "stream",
     "text": [
      "Clipping input data to the valid range for imshow with RGB data ([0..1] for floats or [0..255] for integers).\n"
     ]
    },
    {
     "name": "stdout",
     "output_type": "stream",
     "text": [
      "['CorNet_S' '31_0' 'Bulge' 8 62.16257246917174 0.30321965652758315 '31_0'\n",
      " 'Bulge' 'same' 'same' 102.54343303557366 None]\n",
      "['CorNet_S' '31_0' 'Bulge' 8 62.16257246917174 0.30321965652758315 '31_50'\n",
      " 'Skel' 'diff' 'diff' 63.03832269483997 None]\n",
      "['CorNet_S' '31_0' 'Bulge' 8 62.16257246917174 0.30321965652758315 '31_50'\n",
      " 'Bulge' 'diff' 'same' 111.01707335441343 None]\n",
      "['CorNet_S' '31_50' 'Skel' 8 36.04145779181272 0.22070402679814688 '31_0'\n",
      " 'Skel' 'diff' 'same' 15.015508686342548 None]\n",
      "['CorNet_S' '31_50' 'Skel' 8 36.04145779181272 0.22070402679814688 '31_0'\n",
      " 'Bulge' 'diff' 'diff' 21.537058914861372 None]\n"
     ]
    },
    {
     "name": "stderr",
     "output_type": "stream",
     "text": [
      "Clipping input data to the valid range for imshow with RGB data ([0..1] for floats or [0..255] for integers).\n"
     ]
    },
    {
     "name": "stdout",
     "output_type": "stream",
     "text": [
      "['CorNet_S' '31_50' 'Skel' 8 36.04145779181272 0.22070402679814688 '31_50'\n",
      " 'Skel' 'same' 'same' 15.604770060508482 None]\n",
      "['CorNet_S' '31_50' 'Skel' 8 36.04145779181272 0.22070402679814688 '31_50'\n",
      " 'Bulge' 'same' 'diff' 22.560692171896658 None]\n",
      "['CorNet_S' '31_50' 'Bulge' 8 70.10907804305033 0.31884799501107586 '31_0'\n",
      " 'Skel' 'diff' 'diff' 51.17078902644496 None]\n",
      "['CorNet_S' '31_50' 'Bulge' 8 70.10907804305033 0.31884799501107586 '31_0'\n",
      " 'Bulge' 'diff' 'same' 85.19796414529124 None]\n",
      "['CorNet_S' '31_50' 'Bulge' 8 70.10907804305033 0.31884799501107586\n",
      " '31_50' 'Skel' 'same' 'diff' 54.59650164265786 None]\n"
     ]
    },
    {
     "name": "stderr",
     "output_type": "stream",
     "text": [
      "Clipping input data to the valid range for imshow with RGB data ([0..1] for floats or [0..255] for integers).\n"
     ]
    },
    {
     "name": "stdout",
     "output_type": "stream",
     "text": [
      "['CorNet_S' '31_50' 'Bulge' 8 70.10907804305033 0.31884799501107586\n",
      " '31_50' 'Bulge' 'same' 'same' 92.7424224422824 None]\n"
     ]
    },
    {
     "name": "stderr",
     "output_type": "stream",
     "text": [
      "Clipping input data to the valid range for imshow with RGB data ([0..1] for floats or [0..255] for integers).\n"
     ]
    },
    {
     "name": "stdout",
     "output_type": "stream",
     "text": [
      "['SayCam' '31_0' 'Skel' 8 10.490813392109327 0.046732855555150776 '31_0'\n",
      " 'Skel' 'same' 'same' 0.03737250370003523 None]\n",
      "['SayCam' '31_0' 'Skel' 8 10.490813392109327 0.046732855555150776 '31_0'\n",
      " 'Bulge' 'same' 'diff' 3.6421442897089067 None]\n",
      "['SayCam' '31_0' 'Skel' 8 10.490813392109327 0.046732855555150776 '31_50'\n",
      " 'Skel' 'diff' 'same' 0.9413623098404177 None]\n",
      "['SayCam' '31_0' 'Skel' 8 10.490813392109327 0.046732855555150776 '31_50'\n",
      " 'Bulge' 'diff' 'diff' 3.1855947702161727 None]\n",
      "['SayCam' '31_0' 'Bulge' 8 12.822306321663481 0.056165880994916324 '31_0'\n",
      " 'Skel' 'same' 'diff' 3.186644241694481 None]\n"
     ]
    },
    {
     "name": "stderr",
     "output_type": "stream",
     "text": [
      "Clipping input data to the valid range for imshow with RGB data ([0..1] for floats or [0..255] for integers).\n"
     ]
    },
    {
     "name": "stdout",
     "output_type": "stream",
     "text": [
      "['SayCam' '31_0' 'Bulge' 8 12.822306321663481 0.056165880994916324 '31_0'\n",
      " 'Bulge' 'same' 'same' 0.06434238697552393 None]\n",
      "['SayCam' '31_0' 'Bulge' 8 12.822306321663481 0.056165880994916324 '31_50'\n",
      " 'Skel' 'diff' 'diff' 3.6314302240648577 None]\n",
      "['SayCam' '31_0' 'Bulge' 8 12.822306321663481 0.056165880994916324 '31_50'\n",
      " 'Bulge' 'diff' 'same' 1.7059337602507683 None]\n",
      "['SayCam' '31_50' 'Skel' 8 10.315742823167614 0.05490716170677314 '31_0'\n",
      " 'Skel' 'diff' 'same' 0.8124783954793408 None]\n",
      "['SayCam' '31_50' 'Skel' 8 10.315742823167614 0.05490716170677314 '31_0'\n",
      " 'Bulge' 'diff' 'diff' 3.0349355166958225 None]\n"
     ]
    },
    {
     "name": "stderr",
     "output_type": "stream",
     "text": [
      "Clipping input data to the valid range for imshow with RGB data ([0..1] for floats or [0..255] for integers).\n"
     ]
    },
    {
     "name": "stdout",
     "output_type": "stream",
     "text": [
      "['SayCam' '31_50' 'Skel' 8 10.315742823167614 0.05490716170677314 '31_50'\n",
      " 'Skel' 'same' 'same' 0.055221058172924865 None]\n"
     ]
    }
   ],
   "source": [
    "\n",
    "for ee in range(0,len(exp)):\n",
    "    hab_data = np.load(f'Weights/decoder/{exp[ee]}_Summary.npy',allow_pickle=True)\n",
    "    \n",
    "    for mm in range(0, len(hab_data)):\n",
    "    #for mm in range(0,1):\n",
    "        \n",
    "        encoder, in_feat = load_model(hab_data[mm,0]) #load encoder\n",
    "        #print(hab_data[mm,0])\n",
    "        if hab_data[mm,0] == 'CorNet_Z' or hab_data[mm,0] == 'CorNet_S':\n",
    "            try:\n",
    "                m = encoder.module\n",
    "            except:\n",
    "                m = encoder\n",
    "            model_layer = getattr(getattr(m, 'decoder'), \"avgpool\")\n",
    "            model_layer.register_forward_hook(_store_feats)\n",
    "\n",
    "        encoder = encoder.cuda()\n",
    "        encoder.eval()\n",
    "        \n",
    "        test_data = np.empty(((len(skel[ee]) * len(SF)),hab_data.shape[1]), dtype = object)\n",
    "        \n",
    "        hn = 0\n",
    "        for sk in range(0,len(skel[ee])):\n",
    "            for sf in SF:\n",
    "                torch.cuda.empty_cache() #clear GPU memory\n",
    "                #load stim for dishab object\n",
    "                hab_dataset = LoadFrames(f'Frames/Figure_{skel[ee][sk]}_{sf}', transform=transform)\n",
    "                trainloader = torch.utils.data.DataLoader(hab_dataset, batch_size=batch_num, shuffle=True, num_workers = 0, pin_memory=False)\n",
    "                #print(f'Figure_{skel[ee][sk]}_{sf}')\n",
    "                \n",
    "                if skel[ee][sk] == hab_data[mm,1]:\n",
    "                    skel_cat = \"same\"\n",
    "                else:\n",
    "                    skel_cat = \"diff\"\n",
    "                \n",
    "                if sf == hab_data[mm,2]:\n",
    "                    sf_cat = \"same\"\n",
    "                else:\n",
    "                    sf_cat = \"diff\"\n",
    "                \n",
    "                #Create decoder\n",
    "                #it gets reset for every object\n",
    "                decoder = nn.Sequential(nn.ReLU(), nn.ConvTranspose2d(in_feat, 3, 224))\n",
    "                decoder = decoder.cuda()\n",
    "\n",
    "                #Load checkpoint from fully trained decoder\n",
    "                checkpoint = torch.load(f'Weights/decoder/{exp[ee]}_{hab_data[mm,0]}_Figure_{hab_data[mm,1]}_{hab_data[mm,2]}.pt')\n",
    "                #print(f'Weights/decoder/{exp[ee]}_{hab_data[mm,0]}_Figure_{hab_data[mm,1]}_{hab_data[mm,2]}.pt')\n",
    "                decoder.load_state_dict(checkpoint)\n",
    "                decoder.eval()\n",
    "                decoder.train() #put in \"train mode' because the baby \"kinda learns over dishab\"\n",
    " \n",
    "                #set up optimzer\n",
    "                #optimizer = torch.optim.SGD(decoder.parameters(), lr=0.01, momentum=0.9)\n",
    "                optimizer = torch.optim.Adam(decoder.parameters(), lr=0.01)\n",
    "                total_loss = []\n",
    "                for ep in range(0,epochs):\n",
    "                    train_loss = 0.0 \n",
    "                    n = 0\n",
    "                    for frames in trainloader:\n",
    "                        frames = frames.cuda()\n",
    "                        \n",
    "                        if hab_data[mm,0]== 'CorNet_Z' or hab_data[mm,0] == 'CorNet_S':\n",
    "                            _model_feats = []\n",
    "                            encoder(frames)\n",
    "                            encode_out = _model_feats[0]\n",
    "                            #print(encode_out.shape)\n",
    "                        elif hab_data[mm,0] == 'AlexNet_SN' or hab_data[mm,0]== 'AlexNet_IN':\n",
    "                            encode_out = encoder(frames) #Get encoder features\n",
    "                            encode_out = encode_out[:,:, None, None]\n",
    "                        else:\n",
    "                            encode_out = encoder(frames) #Get encoder features\n",
    "                        \n",
    "                        optimizer.zero_grad() #zero out gradients from previous epoch\n",
    "                        \n",
    "                        decode_out = decoder(encode_out) #Run features through decoder\n",
    "                                                \n",
    "                        loss = criterion(decode_out, frames) #Calculate loss\n",
    "                        train_loss += (loss.item()*frames.size(0))\n",
    "                        n = n +1\n",
    "\n",
    "                        # backward pass: compute gradient of the loss with respect to model parameters\n",
    "                        #loss.backward()\n",
    "                        # perform a single optimization step (parameter update)\n",
    "                        #optimizer.step()                        \n",
    "\n",
    "                        #print(train_loss, loss.item()*frames.size(0), n)\n",
    "                    total_loss = train_loss/n\n",
    "\n",
    "                    #print(ep, total_loss)\n",
    "                    \n",
    "                               \n",
    "\n",
    "                if skel_cat == 'same' and sf_cat == 'same':\n",
    "                    save_recon(decode_out, skel_cat, sf_cat, hab_data[mm,0],f'Figure_{hab_data[mm,1]}_{hab_data[mm,2]}')\n",
    "                    \n",
    "                test_data[hn,0:hab_data.shape[1]] =  hab_data[mm]\n",
    "                test_data[hn,6] =  skel[ee][sk]\n",
    "                test_data[hn,7] =  sf\n",
    "                test_data[hn,8] =  skel_cat\n",
    "                test_data[hn,9] =  sf_cat\n",
    "                test_data[hn,10] = total_loss\n",
    "                \n",
    "                \n",
    "                #test_data[hn,11] =  []\n",
    "                #test_data[hn,11:test_data.shape[1]] =  total_loss\n",
    "                #hab_data[hn,9] =  hab_end\n",
    "                \n",
    "                print(test_data[hn])\n",
    "                hn = hn +1\n",
    "        #print('Saving model', modelType[mm], f'Figure_{skel[ee][sk]}_{sf}', ep, hab_start, hab_end)                \n",
    "        #torch.save(decoder.state_dict(), f'Weights/decoder/{exp[ee]}_{modelType[mm]}_Figure_{skel[ee][sk]}_{sf}.pt')\n",
    "        np.savetxt(f'Results/AE/{exp[ee]}_{hab_data[mm,0]}_Figure_{hab_data[mm,1]}_{hab_data[mm,2]}_Result.csv', test_data, delimiter=',', fmt= '%s')\n",
    "        #hn = hn + 1\n",
    "        \n",
    "        #del decoder\n",
    "        #del encoder\n",
    "    "
   ]
  },
  {
   "cell_type": "code",
   "execution_count": null,
   "metadata": {},
   "outputs": [],
   "source": [
    "print(hab_data[mm])"
   ]
  },
  {
   "cell_type": "code",
   "execution_count": null,
   "metadata": {},
   "outputs": [],
   "source": [
    "sk = '23'\n",
    "sf = 'Skel'\n",
    "model = 'ResNet_SN'\n",
    "ee = 0"
   ]
  },
  {
   "cell_type": "code",
   "execution_count": null,
   "metadata": {},
   "outputs": [],
   "source": [
    "sk = hab_data[mm,1]\n",
    "sf = hab_data[mm,2]\n",
    "model = hab_data[mm,0]\n",
    "ee = 0"
   ]
  },
  {
   "cell_type": "code",
   "execution_count": null,
   "metadata": {},
   "outputs": [],
   "source": [
    "encoder, in_feat = load_model(model) #load encoder\n",
    "encoder.cuda()\n",
    "encoder.eval()\n",
    "#Create decoder\n",
    "#it gets reset for every object\n",
    "decoder = nn.Sequential(nn.ReLU(), nn.ConvTranspose2d(in_feat, 3, 224))\n",
    "decoder = decoder.cuda()\n",
    "\n",
    "#Load checkpoint from fully trained decoder\n",
    "checkpoint = torch.load(f'Weights/decoder/{exp[ee]}_{model}_Figure_{sk}_{sf}.pt')\n",
    "decoder.load_state_dict(checkpoint)\n",
    "decoder.eval()\n",
    "decoder.train()\n",
    "optimizer = torch.optim.Adam(decoder.parameters(), lr=0.01)"
   ]
  },
  {
   "cell_type": "code",
   "execution_count": null,
   "metadata": {},
   "outputs": [],
   "source": [
    "hab_dataset = LoadFrames(f'Frames/Figure_{sk}_{sf}', transform=transform)\n",
    "trainloader = torch.utils.data.DataLoader(hab_dataset, batch_size=batch_num, shuffle=True, num_workers = 0, pin_memory=False)"
   ]
  },
  {
   "cell_type": "code",
   "execution_count": null,
   "metadata": {},
   "outputs": [],
   "source": [
    "train_loss = 0.0 \n",
    "n = 0\n",
    "for frames in trainloader:\n",
    "    frames = frames.cuda()\n",
    "\n",
    "\n",
    "    encode_out = encoder(frames) #Get encoder features\n",
    "\n",
    "    optimizer.zero_grad() #zero out gradients from previous epoch\n",
    "\n",
    "    decode_out = decoder(encode_out) #Run features through decoder\n",
    "\n",
    "    loss = criterion(decode_out, frames) #Calculate loss\n",
    "    print((loss.item()*frames.size(0)))\n",
    "    train_loss += (loss.item()*frames.size(0))\n",
    "    n = n +1\n",
    "\n",
    "\n",
    "    # backward pass: compute gradient of the loss with respect to model parameters\n",
    "    #loss.backward()\n",
    "    # perform a single optimization step (parameter update)\n",
    "    #optimizer.step()\n",
    "    optimizer.zero_grad() #zero out gradients from previous epoch\n",
    "\n",
    "\n",
    "\n",
    "    #print(train_loss, loss.item()*frames.size(0), n)\n",
    "print(train_loss/n)\n",
    "\n",
    "#print(ep, total_loss)"
   ]
  },
  {
   "cell_type": "code",
   "execution_count": null,
   "metadata": {},
   "outputs": [],
   "source": [
    "#scaler = transforms.Resize((224, 224))\n",
    "#normalize = transforms.Normalize(mean=[0.485, 0.456, 0.406],\n",
    "#                                 std=[0.229, 0.224, 0.225])\n",
    "#to_tensor = transforms.ToTensor()\n",
    "def image_loader(image_name):\n",
    "    \"\"\"load image, returns cuda tensor\"\"\"\n",
    "    image = Image.open(image_name).convert(\"RGB\")\n",
    "    #image = Variable(normalize(to_tensor(scaler(image))).unsqueeze(0))\n",
    "    image = transform(image).unsqueeze(0)\n",
    "    \n",
    "    return image     "
   ]
  },
  {
   "cell_type": "code",
   "execution_count": null,
   "metadata": {},
   "outputs": [],
   "source": [
    "#load sample image\n",
    "IM = image_loader(f'Frames/Figure_{sk}_{sf}/Figure_{sk}_{sf}_150.jpg')\n",
    "IM = IM.cuda()\n",
    "print(IM.shape)"
   ]
  },
  {
   "cell_type": "code",
   "execution_count": null,
   "metadata": {},
   "outputs": [],
   "source": [
    "print(f'Weights/decoder/{exp[ee]}_{model}_Figure_{sk}_{sf}.pt')\n",
    "print(IM.shape)\n"
   ]
  },
  {
   "cell_type": "code",
   "execution_count": null,
   "metadata": {},
   "outputs": [],
   "source": [
    "\n",
    "out = encoder(IM)\n",
    "out = decoder(out)\n",
    "loss = criterion(out, IM)\n",
    "print(loss.item()*IM.size(0))\n",
    "#out = out.squeeze(0)\n",
    "#print(out.shape)"
   ]
  },
  {
   "cell_type": "markdown",
   "metadata": {},
   "source": [
    "From here on is image preview"
   ]
  },
  {
   "cell_type": "code",
   "execution_count": null,
   "metadata": {},
   "outputs": [],
   "source": [
    "out = out.squeeze(0)\n",
    "print(out.shape)\n",
    "inv_normalize = transforms.Normalize(\n",
    "   mean=[-0.485/0.229, -0.456/0.224, -0.406/0.225],\n",
    "   std=[1/0.229, 1/0.224, 1/0.225]\n",
    ")\n",
    "\n",
    "output = inv_normalize(out)\n",
    "output = output.cpu().detach()\n",
    "plt.imshow(output.permute(1, 2, 0))"
   ]
  },
  {
   "cell_type": "code",
   "execution_count": null,
   "metadata": {},
   "outputs": [],
   "source": [
    "IM = IM.squeeze(0)\n",
    "IM = inv_normalize(IM)\n",
    "IM = IM.cpu().detach()\n",
    "plt.imshow(IM.permute(1, 2, 0))"
   ]
  },
  {
   "cell_type": "markdown",
   "metadata": {},
   "source": [
    "From here on is image preview"
   ]
  }
 ],
 "metadata": {
  "kernelspec": {
   "display_name": "Python 3",
   "language": "python",
   "name": "python3"
  },
  "language_info": {
   "codemirror_mode": {
    "name": "ipython",
    "version": 3
   },
   "file_extension": ".py",
   "mimetype": "text/x-python",
   "name": "python",
   "nbconvert_exporter": "python",
   "pygments_lexer": "ipython3",
   "version": "3.7.6"
  }
 },
 "nbformat": 4,
 "nbformat_minor": 4
}
